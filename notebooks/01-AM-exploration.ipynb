{
 "cells": [
  {
   "cell_type": "markdown",
   "metadata": {},
   "source": [
    "# IRCDL papers"
   ]
  },
  {
   "cell_type": "code",
   "execution_count": 1,
   "metadata": {},
   "outputs": [],
   "source": [
    "import pandas as pd\n",
    "import matplotlib\n",
    "from ast import literal_eval"
   ]
  },
  {
   "cell_type": "markdown",
   "metadata": {},
   "source": [
    "Data already provided in the `data/raw` folder as downloaded from DBLP at the URL https://dblp.org/search/publ/api?q=stream%3Astreams%2Fconf%2Fircdl%3A&h=1000&format=json.\n",
    "\n",
    "Uncomment the following cell and execute to fetch raw data from DBLP."
   ]
  },
  {
   "cell_type": "code",
   "execution_count": 2,
   "metadata": {},
   "outputs": [],
   "source": [
    "dblp = 'https://dblp.org/search/publ/api?q=stream%3Astreams%2Fconf%2Fircdl%3A&h=1000&format=json'\n",
    "dblp_path = '../data/raw/ircdl_dblp.json'"
   ]
  },
  {
   "cell_type": "code",
   "execution_count": 3,
   "metadata": {},
   "outputs": [],
   "source": [
    "# from urllib.request import urlretrieve\n",
    "\n",
    "# urlretrieve(dblp, dblp_path)"
   ]
  },
  {
   "cell_type": "markdown",
   "metadata": {},
   "source": [
    "## Process raw data"
   ]
  },
  {
   "cell_type": "code",
   "execution_count": 4,
   "metadata": {},
   "outputs": [],
   "source": [
    "import json, csv\n",
    "\n",
    "csv_path = '../data/processed/ircdl_dblp.csv'\n",
    "\n",
    "with open(dblp_path, 'r') as dblp_file, open(csv_path, 'w') as csv_file:\n",
    "    dblp = json.load(dblp_file)\n",
    "\n",
    "    writer = csv.writer(csv_file, delimiter=',', quotechar='\"', quoting=csv.QUOTE_MINIMAL)\n",
    "    writer.writerow(['key', 'doi', 'url', 'ee', 'year', 'authors', 'title', 'venue', 'pages', 'length', 'type', 'access'])\n",
    "    for hit in dblp['result']['hits']['hit']:\n",
    "        paper = hit['info']\n",
    "        \n",
    "        if 'authors' in paper:\n",
    "            # authors = ', '.join([a['text'] for a in paper['authors']['author']]) if isinstance(paper['authors']['author'], list) else paper['authors']['author']['text']\n",
    "            authors = [a['text'] for a in paper['authors']['author']] if isinstance(paper['authors']['author'], list) else [paper['authors']['author']['text']]\n",
    "        else:\n",
    "            authors = []\n",
    "\n",
    "        key = paper['key'] if 'key' in paper else None\n",
    "        doi = paper['doi'] if 'doi' in paper else None\n",
    "        access = paper['access'] if 'access' in paper else None\n",
    "        ee = paper['ee'] if 'ee' in paper else None\n",
    "        range = paper['pages'] if 'pages' in paper else None\n",
    "        venue = paper['venue'] if 'venue' in paper else None\n",
    "        if range is not None:\n",
    "            pages = range.split('-')\n",
    "            length = int(pages[1]) - int(pages[0])\n",
    "        else:\n",
    "            length = None\n",
    "        \n",
    "        writer.writerow([key, doi, paper['url'], ee, paper['year'], authors, paper['title'], venue, range, length, paper['type'], access])"
   ]
  },
  {
   "cell_type": "markdown",
   "metadata": {},
   "source": [
    "## Analysis"
   ]
  },
  {
   "cell_type": "markdown",
   "metadata": {},
   "source": [
    "Load DBLP data"
   ]
  },
  {
   "cell_type": "code",
   "execution_count": 5,
   "metadata": {},
   "outputs": [
    {
     "data": {
      "text/html": [
       "<div>\n",
       "<style scoped>\n",
       "    .dataframe tbody tr th:only-of-type {\n",
       "        vertical-align: middle;\n",
       "    }\n",
       "\n",
       "    .dataframe tbody tr th {\n",
       "        vertical-align: top;\n",
       "    }\n",
       "\n",
       "    .dataframe thead th {\n",
       "        text-align: right;\n",
       "    }\n",
       "</style>\n",
       "<table border=\"1\" class=\"dataframe\">\n",
       "  <thead>\n",
       "    <tr style=\"text-align: right;\">\n",
       "      <th></th>\n",
       "      <th>key</th>\n",
       "      <th>doi</th>\n",
       "      <th>url</th>\n",
       "      <th>ee</th>\n",
       "      <th>year</th>\n",
       "      <th>authors</th>\n",
       "      <th>title</th>\n",
       "      <th>venue</th>\n",
       "      <th>pages</th>\n",
       "      <th>length</th>\n",
       "      <th>type</th>\n",
       "      <th>access</th>\n",
       "    </tr>\n",
       "  </thead>\n",
       "  <tbody>\n",
       "    <tr>\n",
       "      <th>0</th>\n",
       "      <td>conf/ircdl/AmbrosinoAPS23</td>\n",
       "      <td>NaN</td>\n",
       "      <td>https://dblp.org/rec/conf/ircdl/AmbrosinoAPS23</td>\n",
       "      <td>https://ceur-ws.org/Vol-3365/short16.pdf</td>\n",
       "      <td>2023</td>\n",
       "      <td>[Maria Anna Ambrosino, Vanja Annunziata, Maria...</td>\n",
       "      <td>The Hetor project: a joint effort to co-create...</td>\n",
       "      <td>IRCDL</td>\n",
       "      <td>216-224</td>\n",
       "      <td>8.0</td>\n",
       "      <td>Conference and Workshop Papers</td>\n",
       "      <td>open</td>\n",
       "    </tr>\n",
       "    <tr>\n",
       "      <th>1</th>\n",
       "      <td>conf/ircdl/BagchiD23</td>\n",
       "      <td>NaN</td>\n",
       "      <td>https://dblp.org/rec/conf/ircdl/BagchiD23</td>\n",
       "      <td>https://ceur-ws.org/Vol-3365/short1.pdf</td>\n",
       "      <td>2023</td>\n",
       "      <td>[Mayukh Bagchi, Subhashis Das]</td>\n",
       "      <td>Disentangling Domain Ontologies.</td>\n",
       "      <td>IRCDL</td>\n",
       "      <td>17-28</td>\n",
       "      <td>11.0</td>\n",
       "      <td>Conference and Workshop Papers</td>\n",
       "      <td>open</td>\n",
       "    </tr>\n",
       "    <tr>\n",
       "      <th>2</th>\n",
       "      <td>conf/ircdl/BaglioniMPBM23</td>\n",
       "      <td>NaN</td>\n",
       "      <td>https://dblp.org/rec/conf/ircdl/BaglioniMPBM23</td>\n",
       "      <td>https://ceur-ws.org/Vol-3365/paper2.pdf</td>\n",
       "      <td>2023</td>\n",
       "      <td>[Miriam Baglioni, Andrea Mannocci, Gina Pavone...</td>\n",
       "      <td>(Semi)automated disambiguation of scholarly re...</td>\n",
       "      <td>IRCDL</td>\n",
       "      <td>47-59</td>\n",
       "      <td>12.0</td>\n",
       "      <td>Conference and Workshop Papers</td>\n",
       "      <td>open</td>\n",
       "    </tr>\n",
       "    <tr>\n",
       "      <th>3</th>\n",
       "      <td>conf/ircdl/BarbutiBRCP23</td>\n",
       "      <td>NaN</td>\n",
       "      <td>https://dblp.org/rec/conf/ircdl/BarbutiBRCP23</td>\n",
       "      <td>https://ceur-ws.org/Vol-3365/short17.pdf</td>\n",
       "      <td>2023</td>\n",
       "      <td>[Nicola Barbuti, Mauro De Bari, Stefania Riso,...</td>\n",
       "      <td>The Open Memory Apulia Project. How Open Data ...</td>\n",
       "      <td>IRCDL</td>\n",
       "      <td>225-232</td>\n",
       "      <td>7.0</td>\n",
       "      <td>Conference and Workshop Papers</td>\n",
       "      <td>open</td>\n",
       "    </tr>\n",
       "    <tr>\n",
       "      <th>4</th>\n",
       "      <td>conf/ircdl/BardiBM23</td>\n",
       "      <td>NaN</td>\n",
       "      <td>https://dblp.org/rec/conf/ircdl/BardiBM23</td>\n",
       "      <td>https://ceur-ws.org/Vol-3365/short12.pdf</td>\n",
       "      <td>2023</td>\n",
       "      <td>[Alessia Bardi, Margo Bargheer, Paolo Manghi]</td>\n",
       "      <td>A Discovery Hub for Diamond Open Access publis...</td>\n",
       "      <td>IRCDL</td>\n",
       "      <td>162-166</td>\n",
       "      <td>4.0</td>\n",
       "      <td>Conference and Workshop Papers</td>\n",
       "      <td>open</td>\n",
       "    </tr>\n",
       "  </tbody>\n",
       "</table>\n",
       "</div>"
      ],
      "text/plain": [
       "                         key  doi  \\\n",
       "0  conf/ircdl/AmbrosinoAPS23  NaN   \n",
       "1       conf/ircdl/BagchiD23  NaN   \n",
       "2  conf/ircdl/BaglioniMPBM23  NaN   \n",
       "3   conf/ircdl/BarbutiBRCP23  NaN   \n",
       "4       conf/ircdl/BardiBM23  NaN   \n",
       "\n",
       "                                              url  \\\n",
       "0  https://dblp.org/rec/conf/ircdl/AmbrosinoAPS23   \n",
       "1       https://dblp.org/rec/conf/ircdl/BagchiD23   \n",
       "2  https://dblp.org/rec/conf/ircdl/BaglioniMPBM23   \n",
       "3   https://dblp.org/rec/conf/ircdl/BarbutiBRCP23   \n",
       "4       https://dblp.org/rec/conf/ircdl/BardiBM23   \n",
       "\n",
       "                                         ee  year  \\\n",
       "0  https://ceur-ws.org/Vol-3365/short16.pdf  2023   \n",
       "1   https://ceur-ws.org/Vol-3365/short1.pdf  2023   \n",
       "2   https://ceur-ws.org/Vol-3365/paper2.pdf  2023   \n",
       "3  https://ceur-ws.org/Vol-3365/short17.pdf  2023   \n",
       "4  https://ceur-ws.org/Vol-3365/short12.pdf  2023   \n",
       "\n",
       "                                             authors  \\\n",
       "0  [Maria Anna Ambrosino, Vanja Annunziata, Maria...   \n",
       "1                     [Mayukh Bagchi, Subhashis Das]   \n",
       "2  [Miriam Baglioni, Andrea Mannocci, Gina Pavone...   \n",
       "3  [Nicola Barbuti, Mauro De Bari, Stefania Riso,...   \n",
       "4      [Alessia Bardi, Margo Bargheer, Paolo Manghi]   \n",
       "\n",
       "                                               title  venue    pages  length  \\\n",
       "0  The Hetor project: a joint effort to co-create...  IRCDL  216-224     8.0   \n",
       "1                   Disentangling Domain Ontologies.  IRCDL    17-28    11.0   \n",
       "2  (Semi)automated disambiguation of scholarly re...  IRCDL    47-59    12.0   \n",
       "3  The Open Memory Apulia Project. How Open Data ...  IRCDL  225-232     7.0   \n",
       "4  A Discovery Hub for Diamond Open Access publis...  IRCDL  162-166     4.0   \n",
       "\n",
       "                             type access  \n",
       "0  Conference and Workshop Papers   open  \n",
       "1  Conference and Workshop Papers   open  \n",
       "2  Conference and Workshop Papers   open  \n",
       "3  Conference and Workshop Papers   open  \n",
       "4  Conference and Workshop Papers   open  "
      ]
     },
     "execution_count": 5,
     "metadata": {},
     "output_type": "execute_result"
    }
   ],
   "source": [
    "df = pd.read_csv('../data/processed/ircdl_dblp.csv')\n",
    "df.authors = df.authors.apply(literal_eval)\n",
    "\n",
    "df.head(5)"
   ]
  },
  {
   "cell_type": "code",
   "execution_count": 6,
   "metadata": {},
   "outputs": [
    {
     "name": "stdout",
     "output_type": "stream",
     "text": [
      "<class 'pandas.core.frame.DataFrame'>\n",
      "RangeIndex: 419 entries, 0 to 418\n",
      "Data columns (total 12 columns):\n",
      " #   Column   Non-Null Count  Dtype  \n",
      "---  ------   --------------  -----  \n",
      " 0   key      419 non-null    object \n",
      " 1   doi      249 non-null    object \n",
      " 2   url      419 non-null    object \n",
      " 3   ee       366 non-null    object \n",
      " 4   year     419 non-null    int64  \n",
      " 5   authors  419 non-null    object \n",
      " 6   title    419 non-null    object \n",
      " 7   venue    419 non-null    object \n",
      " 8   pages    366 non-null    object \n",
      " 9   length   366 non-null    float64\n",
      " 10  type     419 non-null    object \n",
      " 11  access   407 non-null    object \n",
      "dtypes: float64(1), int64(1), object(10)\n",
      "memory usage: 39.4+ KB\n"
     ]
    }
   ],
   "source": [
    "df.info()"
   ]
  },
  {
   "cell_type": "markdown",
   "metadata": {},
   "source": [
    "Examine type field"
   ]
  },
  {
   "cell_type": "code",
   "execution_count": 7,
   "metadata": {},
   "outputs": [
    {
     "data": {
      "text/plain": [
       "type\n",
       "Conference and Workshop Papers    398\n",
       "Editorship                         21\n",
       "Name: count, dtype: int64"
      ]
     },
     "execution_count": 7,
     "metadata": {},
     "output_type": "execute_result"
    }
   ],
   "source": [
    "df.type.value_counts()"
   ]
  },
  {
   "cell_type": "markdown",
   "metadata": {},
   "source": [
    "Filter papers only"
   ]
  },
  {
   "cell_type": "code",
   "execution_count": 8,
   "metadata": {},
   "outputs": [
    {
     "name": "stdout",
     "output_type": "stream",
     "text": [
      "<class 'pandas.core.frame.DataFrame'>\n",
      "Index: 398 entries, 0 to 417\n",
      "Data columns (total 12 columns):\n",
      " #   Column   Non-Null Count  Dtype  \n",
      "---  ------   --------------  -----  \n",
      " 0   key      398 non-null    object \n",
      " 1   doi      238 non-null    object \n",
      " 2   url      398 non-null    object \n",
      " 3   ee       349 non-null    object \n",
      " 4   year     398 non-null    int64  \n",
      " 5   authors  398 non-null    object \n",
      " 6   title    398 non-null    object \n",
      " 7   venue    398 non-null    object \n",
      " 8   pages    366 non-null    object \n",
      " 9   length   366 non-null    float64\n",
      " 10  type     398 non-null    object \n",
      " 11  access   398 non-null    object \n",
      "dtypes: float64(1), int64(1), object(10)\n",
      "memory usage: 40.4+ KB\n"
     ]
    }
   ],
   "source": [
    "papers = df[df.type == 'Conference and Workshop Papers']\n",
    "papers.info()"
   ]
  },
  {
   "cell_type": "markdown",
   "metadata": {},
   "source": [
    "Check venues"
   ]
  },
  {
   "cell_type": "code",
   "execution_count": 9,
   "metadata": {},
   "outputs": [
    {
     "data": {
      "text/plain": [
       "venue\n",
       "IRCDL           370\n",
       "VIPERC@IRCDL     18\n",
       "NLP4DL/AT4DL     10\n",
       "Name: count, dtype: int64"
      ]
     },
     "execution_count": 9,
     "metadata": {},
     "output_type": "execute_result"
    }
   ],
   "source": [
    "papers.venue.value_counts()"
   ]
  },
  {
   "cell_type": "markdown",
   "metadata": {},
   "source": [
    "Spurous venue at DBLP; filter IRCDL only"
   ]
  },
  {
   "cell_type": "code",
   "execution_count": 10,
   "metadata": {},
   "outputs": [
    {
     "name": "stdout",
     "output_type": "stream",
     "text": [
      "<class 'pandas.core.frame.DataFrame'>\n",
      "Index: 370 entries, 0 to 417\n",
      "Data columns (total 12 columns):\n",
      " #   Column   Non-Null Count  Dtype  \n",
      "---  ------   --------------  -----  \n",
      " 0   key      370 non-null    object \n",
      " 1   doi      228 non-null    object \n",
      " 2   url      370 non-null    object \n",
      " 3   ee       321 non-null    object \n",
      " 4   year     370 non-null    int64  \n",
      " 5   authors  370 non-null    object \n",
      " 6   title    370 non-null    object \n",
      " 7   venue    370 non-null    object \n",
      " 8   pages    338 non-null    object \n",
      " 9   length   338 non-null    float64\n",
      " 10  type     370 non-null    object \n",
      " 11  access   370 non-null    object \n",
      "dtypes: float64(1), int64(1), object(10)\n",
      "memory usage: 37.6+ KB\n"
     ]
    }
   ],
   "source": [
    "papers = papers[papers.venue == 'IRCDL']\n",
    "papers.info()"
   ]
  },
  {
   "cell_type": "markdown",
   "metadata": {},
   "source": [
    "Checking paper length"
   ]
  },
  {
   "cell_type": "code",
   "execution_count": 11,
   "metadata": {},
   "outputs": [
    {
     "data": {
      "text/plain": [
       "<Axes: >"
      ]
     },
     "execution_count": 11,
     "metadata": {},
     "output_type": "execute_result"
    },
    {
     "data": {
      "image/png": "[encoded data removed]",
      "text/plain": [
       "<Figure size 640x480 with 1 Axes>"
      ]
     },
     "metadata": {},
     "output_type": "display_data"
    }
   ],
   "source": [
    "papers.length.hist()"
   ]
  },
  {
   "cell_type": "markdown",
   "metadata": {},
   "source": [
    "Tell long and short papers apart (assumption on paper lenght)"
   ]
  },
  {
   "cell_type": "code",
   "execution_count": 12,
   "metadata": {},
   "outputs": [
    {
     "data": {
      "text/html": [
       "<div>\n",
       "<style scoped>\n",
       "    .dataframe tbody tr th:only-of-type {\n",
       "        vertical-align: middle;\n",
       "    }\n",
       "\n",
       "    .dataframe tbody tr th {\n",
       "        vertical-align: top;\n",
       "    }\n",
       "\n",
       "    .dataframe thead th {\n",
       "        text-align: right;\n",
       "    }\n",
       "</style>\n",
       "<table border=\"1\" class=\"dataframe\">\n",
       "  <thead>\n",
       "    <tr style=\"text-align: right;\">\n",
       "      <th></th>\n",
       "      <th>key</th>\n",
       "      <th>doi</th>\n",
       "      <th>url</th>\n",
       "      <th>ee</th>\n",
       "      <th>year</th>\n",
       "      <th>authors</th>\n",
       "      <th>title</th>\n",
       "      <th>venue</th>\n",
       "      <th>pages</th>\n",
       "      <th>length</th>\n",
       "      <th>type</th>\n",
       "      <th>access</th>\n",
       "    </tr>\n",
       "  </thead>\n",
       "  <tbody>\n",
       "    <tr>\n",
       "      <th>1</th>\n",
       "      <td>conf/ircdl/BagchiD23</td>\n",
       "      <td>NaN</td>\n",
       "      <td>https://dblp.org/rec/conf/ircdl/BagchiD23</td>\n",
       "      <td>https://ceur-ws.org/Vol-3365/short1.pdf</td>\n",
       "      <td>2023</td>\n",
       "      <td>[Mayukh Bagchi, Subhashis Das]</td>\n",
       "      <td>Disentangling Domain Ontologies.</td>\n",
       "      <td>IRCDL</td>\n",
       "      <td>17-28</td>\n",
       "      <td>11.0</td>\n",
       "      <td>Conference and Workshop Papers</td>\n",
       "      <td>open</td>\n",
       "    </tr>\n",
       "    <tr>\n",
       "      <th>2</th>\n",
       "      <td>conf/ircdl/BaglioniMPBM23</td>\n",
       "      <td>NaN</td>\n",
       "      <td>https://dblp.org/rec/conf/ircdl/BaglioniMPBM23</td>\n",
       "      <td>https://ceur-ws.org/Vol-3365/paper2.pdf</td>\n",
       "      <td>2023</td>\n",
       "      <td>[Miriam Baglioni, Andrea Mannocci, Gina Pavone...</td>\n",
       "      <td>(Semi)automated disambiguation of scholarly re...</td>\n",
       "      <td>IRCDL</td>\n",
       "      <td>47-59</td>\n",
       "      <td>12.0</td>\n",
       "      <td>Conference and Workshop Papers</td>\n",
       "      <td>open</td>\n",
       "    </tr>\n",
       "    <tr>\n",
       "      <th>5</th>\n",
       "      <td>conf/ircdl/BernasconiCM23</td>\n",
       "      <td>NaN</td>\n",
       "      <td>https://dblp.org/rec/conf/ircdl/BernasconiCM23</td>\n",
       "      <td>https://ceur-ws.org/Vol-3365/paper1.pdf</td>\n",
       "      <td>2023</td>\n",
       "      <td>[Eleonora Bernasconi, Miguel Ceriani, Massimo ...</td>\n",
       "      <td>Linked Data interfaces: a survey.</td>\n",
       "      <td>IRCDL</td>\n",
       "      <td>1-16</td>\n",
       "      <td>15.0</td>\n",
       "      <td>Conference and Workshop Papers</td>\n",
       "      <td>open</td>\n",
       "    </tr>\n",
       "    <tr>\n",
       "      <th>8</th>\n",
       "      <td>conf/ircdl/DeglInnocentiCC23</td>\n",
       "      <td>NaN</td>\n",
       "      <td>https://dblp.org/rec/conf/ircdl/DeglInnocentiCC23</td>\n",
       "      <td>https://ceur-ws.org/Vol-3365/paper5.pdf</td>\n",
       "      <td>2023</td>\n",
       "      <td>[Emiliano Degl&amp;apos;Innocenti, Leonardo Canova...</td>\n",
       "      <td>The RESTORE project: a final review.</td>\n",
       "      <td>IRCDL</td>\n",
       "      <td>167-179</td>\n",
       "      <td>12.0</td>\n",
       "      <td>Conference and Workshop Papers</td>\n",
       "      <td>open</td>\n",
       "    </tr>\n",
       "    <tr>\n",
       "      <th>10</th>\n",
       "      <td>conf/ircdl/GemelliVM23</td>\n",
       "      <td>NaN</td>\n",
       "      <td>https://dblp.org/rec/conf/ircdl/GemelliVM23</td>\n",
       "      <td>https://ceur-ws.org/Vol-3365/short14.pdf</td>\n",
       "      <td>2023</td>\n",
       "      <td>[Andrea Gemelli, Emanuele Vivoli, Simone Marinai]</td>\n",
       "      <td>CTE: A Dataset for Contextualized Table Extrac...</td>\n",
       "      <td>IRCDL</td>\n",
       "      <td>197-208</td>\n",
       "      <td>11.0</td>\n",
       "      <td>Conference and Workshop Papers</td>\n",
       "      <td>open</td>\n",
       "    </tr>\n",
       "  </tbody>\n",
       "</table>\n",
       "</div>"
      ],
      "text/plain": [
       "                             key  doi  \\\n",
       "1           conf/ircdl/BagchiD23  NaN   \n",
       "2      conf/ircdl/BaglioniMPBM23  NaN   \n",
       "5      conf/ircdl/BernasconiCM23  NaN   \n",
       "8   conf/ircdl/DeglInnocentiCC23  NaN   \n",
       "10        conf/ircdl/GemelliVM23  NaN   \n",
       "\n",
       "                                                  url  \\\n",
       "1           https://dblp.org/rec/conf/ircdl/BagchiD23   \n",
       "2      https://dblp.org/rec/conf/ircdl/BaglioniMPBM23   \n",
       "5      https://dblp.org/rec/conf/ircdl/BernasconiCM23   \n",
       "8   https://dblp.org/rec/conf/ircdl/DeglInnocentiCC23   \n",
       "10        https://dblp.org/rec/conf/ircdl/GemelliVM23   \n",
       "\n",
       "                                          ee  year  \\\n",
       "1    https://ceur-ws.org/Vol-3365/short1.pdf  2023   \n",
       "2    https://ceur-ws.org/Vol-3365/paper2.pdf  2023   \n",
       "5    https://ceur-ws.org/Vol-3365/paper1.pdf  2023   \n",
       "8    https://ceur-ws.org/Vol-3365/paper5.pdf  2023   \n",
       "10  https://ceur-ws.org/Vol-3365/short14.pdf  2023   \n",
       "\n",
       "                                              authors  \\\n",
       "1                      [Mayukh Bagchi, Subhashis Das]   \n",
       "2   [Miriam Baglioni, Andrea Mannocci, Gina Pavone...   \n",
       "5   [Eleonora Bernasconi, Miguel Ceriani, Massimo ...   \n",
       "8   [Emiliano Degl&apos;Innocenti, Leonardo Canova...   \n",
       "10  [Andrea Gemelli, Emanuele Vivoli, Simone Marinai]   \n",
       "\n",
       "                                                title  venue    pages  length  \\\n",
       "1                    Disentangling Domain Ontologies.  IRCDL    17-28    11.0   \n",
       "2   (Semi)automated disambiguation of scholarly re...  IRCDL    47-59    12.0   \n",
       "5                   Linked Data interfaces: a survey.  IRCDL     1-16    15.0   \n",
       "8                The RESTORE project: a final review.  IRCDL  167-179    12.0   \n",
       "10  CTE: A Dataset for Contextualized Table Extrac...  IRCDL  197-208    11.0   \n",
       "\n",
       "                              type access  \n",
       "1   Conference and Workshop Papers   open  \n",
       "2   Conference and Workshop Papers   open  \n",
       "5   Conference and Workshop Papers   open  \n",
       "8   Conference and Workshop Papers   open  \n",
       "10  Conference and Workshop Papers   open  "
      ]
     },
     "execution_count": 12,
     "metadata": {},
     "output_type": "execute_result"
    }
   ],
   "source": [
    "long = papers[papers.length >= 10]\n",
    "short = papers[papers.length < 10]\n",
    "long.head()"
   ]
  },
  {
   "cell_type": "code",
   "execution_count": 13,
   "metadata": {},
   "outputs": [
    {
     "data": {
      "text/html": [
       "<div>\n",
       "<style scoped>\n",
       "    .dataframe tbody tr th:only-of-type {\n",
       "        vertical-align: middle;\n",
       "    }\n",
       "\n",
       "    .dataframe tbody tr th {\n",
       "        vertical-align: top;\n",
       "    }\n",
       "\n",
       "    .dataframe thead th {\n",
       "        text-align: right;\n",
       "    }\n",
       "</style>\n",
       "<table border=\"1\" class=\"dataframe\">\n",
       "  <thead>\n",
       "    <tr style=\"text-align: right;\">\n",
       "      <th></th>\n",
       "      <th>key</th>\n",
       "      <th>doi</th>\n",
       "      <th>url</th>\n",
       "      <th>ee</th>\n",
       "      <th>year</th>\n",
       "      <th>authors</th>\n",
       "      <th>title</th>\n",
       "      <th>venue</th>\n",
       "      <th>pages</th>\n",
       "      <th>length</th>\n",
       "      <th>type</th>\n",
       "      <th>access</th>\n",
       "    </tr>\n",
       "  </thead>\n",
       "  <tbody>\n",
       "    <tr>\n",
       "      <th>0</th>\n",
       "      <td>conf/ircdl/AmbrosinoAPS23</td>\n",
       "      <td>NaN</td>\n",
       "      <td>https://dblp.org/rec/conf/ircdl/AmbrosinoAPS23</td>\n",
       "      <td>https://ceur-ws.org/Vol-3365/short16.pdf</td>\n",
       "      <td>2023</td>\n",
       "      <td>[Maria Anna Ambrosino, Vanja Annunziata, Maria...</td>\n",
       "      <td>The Hetor project: a joint effort to co-create...</td>\n",
       "      <td>IRCDL</td>\n",
       "      <td>216-224</td>\n",
       "      <td>8.0</td>\n",
       "      <td>Conference and Workshop Papers</td>\n",
       "      <td>open</td>\n",
       "    </tr>\n",
       "    <tr>\n",
       "      <th>3</th>\n",
       "      <td>conf/ircdl/BarbutiBRCP23</td>\n",
       "      <td>NaN</td>\n",
       "      <td>https://dblp.org/rec/conf/ircdl/BarbutiBRCP23</td>\n",
       "      <td>https://ceur-ws.org/Vol-3365/short17.pdf</td>\n",
       "      <td>2023</td>\n",
       "      <td>[Nicola Barbuti, Mauro De Bari, Stefania Riso,...</td>\n",
       "      <td>The Open Memory Apulia Project. How Open Data ...</td>\n",
       "      <td>IRCDL</td>\n",
       "      <td>225-232</td>\n",
       "      <td>7.0</td>\n",
       "      <td>Conference and Workshop Papers</td>\n",
       "      <td>open</td>\n",
       "    </tr>\n",
       "    <tr>\n",
       "      <th>4</th>\n",
       "      <td>conf/ircdl/BardiBM23</td>\n",
       "      <td>NaN</td>\n",
       "      <td>https://dblp.org/rec/conf/ircdl/BardiBM23</td>\n",
       "      <td>https://ceur-ws.org/Vol-3365/short12.pdf</td>\n",
       "      <td>2023</td>\n",
       "      <td>[Alessia Bardi, Margo Bargheer, Paolo Manghi]</td>\n",
       "      <td>A Discovery Hub for Diamond Open Access publis...</td>\n",
       "      <td>IRCDL</td>\n",
       "      <td>162-166</td>\n",
       "      <td>4.0</td>\n",
       "      <td>Conference and Workshop Papers</td>\n",
       "      <td>open</td>\n",
       "    </tr>\n",
       "    <tr>\n",
       "      <th>6</th>\n",
       "      <td>conf/ircdl/CastellanoSV23</td>\n",
       "      <td>NaN</td>\n",
       "      <td>https://dblp.org/rec/conf/ircdl/CastellanoSV23</td>\n",
       "      <td>https://ceur-ws.org/Vol-3365/short13.pdf</td>\n",
       "      <td>2023</td>\n",
       "      <td>[Giovanna Castellano, Raffaele Scaringi, Genna...</td>\n",
       "      <td>Automatic analysis of artistic heritage throug...</td>\n",
       "      <td>IRCDL</td>\n",
       "      <td>192-196</td>\n",
       "      <td>4.0</td>\n",
       "      <td>Conference and Workshop Papers</td>\n",
       "      <td>open</td>\n",
       "    </tr>\n",
       "    <tr>\n",
       "      <th>7</th>\n",
       "      <td>conf/ircdl/CastellucciC23</td>\n",
       "      <td>NaN</td>\n",
       "      <td>https://dblp.org/rec/conf/ircdl/CastellucciC23</td>\n",
       "      <td>https://ceur-ws.org/Vol-3365/short15.pdf</td>\n",
       "      <td>2023</td>\n",
       "      <td>[Paola Castellucci, Gianfranco Crupi]</td>\n",
       "      <td>Put the hands on! For a movable, interactive, ...</td>\n",
       "      <td>IRCDL</td>\n",
       "      <td>209-215</td>\n",
       "      <td>6.0</td>\n",
       "      <td>Conference and Workshop Papers</td>\n",
       "      <td>open</td>\n",
       "    </tr>\n",
       "  </tbody>\n",
       "</table>\n",
       "</div>"
      ],
      "text/plain": [
       "                         key  doi  \\\n",
       "0  conf/ircdl/AmbrosinoAPS23  NaN   \n",
       "3   conf/ircdl/BarbutiBRCP23  NaN   \n",
       "4       conf/ircdl/BardiBM23  NaN   \n",
       "6  conf/ircdl/CastellanoSV23  NaN   \n",
       "7  conf/ircdl/CastellucciC23  NaN   \n",
       "\n",
       "                                              url  \\\n",
       "0  https://dblp.org/rec/conf/ircdl/AmbrosinoAPS23   \n",
       "3   https://dblp.org/rec/conf/ircdl/BarbutiBRCP23   \n",
       "4       https://dblp.org/rec/conf/ircdl/BardiBM23   \n",
       "6  https://dblp.org/rec/conf/ircdl/CastellanoSV23   \n",
       "7  https://dblp.org/rec/conf/ircdl/CastellucciC23   \n",
       "\n",
       "                                         ee  year  \\\n",
       "0  https://ceur-ws.org/Vol-3365/short16.pdf  2023   \n",
       "3  https://ceur-ws.org/Vol-3365/short17.pdf  2023   \n",
       "4  https://ceur-ws.org/Vol-3365/short12.pdf  2023   \n",
       "6  https://ceur-ws.org/Vol-3365/short13.pdf  2023   \n",
       "7  https://ceur-ws.org/Vol-3365/short15.pdf  2023   \n",
       "\n",
       "                                             authors  \\\n",
       "0  [Maria Anna Ambrosino, Vanja Annunziata, Maria...   \n",
       "3  [Nicola Barbuti, Mauro De Bari, Stefania Riso,...   \n",
       "4      [Alessia Bardi, Margo Bargheer, Paolo Manghi]   \n",
       "6  [Giovanna Castellano, Raffaele Scaringi, Genna...   \n",
       "7              [Paola Castellucci, Gianfranco Crupi]   \n",
       "\n",
       "                                               title  venue    pages  length  \\\n",
       "0  The Hetor project: a joint effort to co-create...  IRCDL  216-224     8.0   \n",
       "3  The Open Memory Apulia Project. How Open Data ...  IRCDL  225-232     7.0   \n",
       "4  A Discovery Hub for Diamond Open Access publis...  IRCDL  162-166     4.0   \n",
       "6  Automatic analysis of artistic heritage throug...  IRCDL  192-196     4.0   \n",
       "7  Put the hands on! For a movable, interactive, ...  IRCDL  209-215     6.0   \n",
       "\n",
       "                             type access  \n",
       "0  Conference and Workshop Papers   open  \n",
       "3  Conference and Workshop Papers   open  \n",
       "4  Conference and Workshop Papers   open  \n",
       "6  Conference and Workshop Papers   open  \n",
       "7  Conference and Workshop Papers   open  "
      ]
     },
     "execution_count": 13,
     "metadata": {},
     "output_type": "execute_result"
    }
   ],
   "source": [
    "short.head()"
   ]
  },
  {
   "cell_type": "markdown",
   "metadata": {},
   "source": [
    "### Top contributors"
   ]
  },
  {
   "cell_type": "markdown",
   "metadata": {},
   "source": [
    "Explode authors of each single paper"
   ]
  },
  {
   "cell_type": "code",
   "execution_count": 14,
   "metadata": {},
   "outputs": [
    {
     "data": {
      "text/plain": [
       "authors\n",
       "Stefano Ferilli            18\n",
       "Floriana Esposito          13\n",
       "Nicola Ferro 0001          12\n",
       "Gianmaria Silvello         11\n",
       "Giorgio Maria Di Nunzio     9\n",
       "                           ..\n",
       "Caterina Bergami            1\n",
       "Alessandra Pugnetti         1\n",
       "Laura Pandolfo              1\n",
       "Luca Pulina                 1\n",
       "Marco Degemmis              1\n",
       "Name: count, Length: 320, dtype: int64"
      ]
     },
     "execution_count": 14,
     "metadata": {},
     "output_type": "execute_result"
    }
   ],
   "source": [
    "long_contributors = long.authors.explode().value_counts()\n",
    "long_contributors"
   ]
  },
  {
   "cell_type": "markdown",
   "metadata": {},
   "source": [
    "Filter out Steering Committee and Advisory Board members and find top contributors (assumption on number of **long papers** published)"
   ]
  },
  {
   "cell_type": "code",
   "execution_count": 25,
   "metadata": {},
   "outputs": [
    {
     "data": {
      "text/plain": [
       "authors\n",
       "Nicola Ferro 0001          12\n",
       "Giorgio Maria Di Nunzio     9\n",
       "Nicola Orio                 7\n",
       "Anna Maria Tammaro          6\n",
       "Domenico Redavid            5\n",
       "Name: count, dtype: int64"
      ]
     },
     "execution_count": 25,
     "metadata": {},
     "output_type": "execute_result"
    }
   ],
   "source": [
    "to_filter = 'bimbo|manghi|agosti|ferilli|grana|poggi|serra|silvello|catarci|thanos|esposito|tasso'\n",
    "top_long = long_contributors[(~long_contributors.index.str.lower().str.contains(to_filter)) & (long_contributors > 3)]\n",
    "top_long[:5]"
   ]
  },
  {
   "cell_type": "markdown",
   "metadata": {},
   "source": [
    "Repeat for **short papers**"
   ]
  },
  {
   "cell_type": "code",
   "execution_count": 16,
   "metadata": {},
   "outputs": [
    {
     "data": {
      "text/plain": [
       "authors\n",
       "Nicola Ferro 0001       22\n",
       "Gianmaria Silvello      14\n",
       "Maristella Agosti       12\n",
       "Nicola Orio             11\n",
       "Paolo Manghi            11\n",
       "                        ..\n",
       "Laura Ciancio            1\n",
       "Rosanna De Rosa 0001     1\n",
       "Eleonora Pantò           1\n",
       "Fabio Nascimbeni         1\n",
       "Nicola Mastidoro         1\n",
       "Name: count, Length: 319, dtype: int64"
      ]
     },
     "execution_count": 16,
     "metadata": {},
     "output_type": "execute_result"
    }
   ],
   "source": [
    "short_contributors = short.authors.explode().value_counts()\n",
    "short_contributors"
   ]
  },
  {
   "cell_type": "code",
   "execution_count": 24,
   "metadata": {},
   "outputs": [
    {
     "data": {
      "text/plain": [
       "authors\n",
       "Nicola Ferro 0001    22\n",
       "Nicola Orio          11\n",
       "Carlo Meghini        10\n",
       "Riccardo Miotto       6\n",
       "Vittore Casarosa      6\n",
       "Name: count, dtype: int64"
      ]
     },
     "execution_count": 24,
     "metadata": {},
     "output_type": "execute_result"
    }
   ],
   "source": [
    "top_short = short_contributors[(~short_contributors.index.str.lower().str.contains(to_filter)) & (short_contributors > 3)]\n",
    "top_short"
   ]
  },
  {
   "cell_type": "code",
   "execution_count": null,
   "metadata": {},
   "outputs": [],
   "source": []
  },
  {
   "cell_type": "code",
   "execution_count": null,
   "metadata": {},
   "outputs": [],
   "source": []
  },
  {
   "cell_type": "code",
   "execution_count": null,
   "metadata": {},
   "outputs": [],
   "source": []
  },
  {
   "cell_type": "code",
   "execution_count": 29,
   "metadata": {},
   "outputs": [],
   "source": [
    "papers.to_pickle('../data/processed/papers.pkl')"
   ]
  },
  {
   "cell_type": "code",
   "execution_count": null,
   "metadata": {},
   "outputs": [],
   "source": []
  }
 ],
 "metadata": {
  "kernelspec": {
   "display_name": "Python 3 (ipykernel)",
   "language": "python",
   "name": "python3"
  },
  "language_info": {
   "codemirror_mode": {
    "name": "ipython",
    "version": 3
   },
   "file_extension": ".py",
   "mimetype": "text/x-python",
   "name": "python",
   "nbconvert_exporter": "python",
   "pygments_lexer": "ipython3",
   "version": "3.12.0"
  }
 },
 "nbformat": 4,
 "nbformat_minor": 4
}

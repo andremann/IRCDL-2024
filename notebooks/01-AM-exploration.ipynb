{
 "cells": [
  {
   "cell_type": "markdown",
   "metadata": {},
   "source": [
    "# IRCDL papers"
   ]
  },
  {
   "cell_type": "code",
   "execution_count": 1,
   "metadata": {},
   "outputs": [],
   "source": [
    "import pandas as pd\n",
    "import matplotlib\n",
    "from ast import literal_eval"
   ]
  },
  {
   "cell_type": "markdown",
   "metadata": {},
   "source": [
    "Data already provided in the `data/raw` folder as downloaded from DBLP at the URL https://dblp.org/search/publ/api?q=stream%3Astreams%2Fconf%2Fircdl%3A&h=1000&format=json.\n",
    "\n",
    "Uncomment the following cell and execute to fetch raw data from DBLP."
   ]
  },
  {
   "cell_type": "code",
   "execution_count": 2,
   "metadata": {},
   "outputs": [],
   "source": [
    "dblp = 'https://dblp.org/search/publ/api?q=stream%3Astreams%2Fconf%2Fircdl%3A&h=1000&format=json'\n",
    "dblp_path = '../data/raw/ircdl_dblp.json'"
   ]
  },
  {
   "cell_type": "code",
   "execution_count": 3,
   "metadata": {},
   "outputs": [],
   "source": [
    "# from urllib.request import urlretrieve\n",
    "\n",
    "# urlretrieve(dblp, dblp_path)"
   ]
  },
  {
   "cell_type": "markdown",
   "metadata": {},
   "source": [
    "## Process raw data"
   ]
  },
  {
   "cell_type": "code",
   "execution_count": 4,
   "metadata": {},
   "outputs": [],
   "source": [
    "import json, csv\n",
    "\n",
    "csv_path = '../data/processed/ircdl_dblp.csv'\n",
    "\n",
    "with open(dblp_path, 'r') as dblp_file, open(csv_path, 'w') as csv_file:\n",
    "    dblp = json.load(dblp_file)\n",
    "\n",
    "    writer = csv.writer(csv_file, delimiter=',', quotechar='\"', quoting=csv.QUOTE_MINIMAL)\n",
    "    writer.writerow(['key', 'doi', 'url', 'ee', 'year', 'authors', 'title', 'venue', 'pages', 'length', 'type', 'access'])\n",
    "    for hit in dblp['result']['hits']['hit']:\n",
    "        paper = hit['info']\n",
    "        \n",
    "        if 'authors' in paper:\n",
    "            # authors = ', '.join([a['text'] for a in paper['authors']['author']]) if isinstance(paper['authors']['author'], list) else paper['authors']['author']['text']\n",
    "            authors = [a['text'] for a in paper['authors']['author']] if isinstance(paper['authors']['author'], list) else [paper['authors']['author']['text']]\n",
    "        else:\n",
    "            authors = []\n",
    "\n",
    "        key = paper['key'] if 'key' in paper else None\n",
    "        doi = paper['doi'] if 'doi' in paper else None\n",
    "        access = paper['access'] if 'access' in paper else None\n",
    "        ee = paper['ee'] if 'ee' in paper else None\n",
    "        range = paper['pages'] if 'pages' in paper else None\n",
    "        venue = paper['venue'] if 'venue' in paper else None\n",
    "        if range is not None:\n",
    "            pages = range.split('-')\n",
    "            length = int(pages[1]) - int(pages[0])\n",
    "        else:\n",
    "            length = None\n",
    "        \n",
    "        writer.writerow([key, doi, paper['url'], ee, paper['year'], authors, paper['title'], venue, range, length, paper['type'], access])"
   ]
  },
  {
   "cell_type": "markdown",
   "metadata": {},
   "source": [
    "## Analysis"
   ]
  },
  {
   "cell_type": "markdown",
   "metadata": {},
   "source": [
    "Load DBLP data"
   ]
  },
  {
   "cell_type": "code",
   "execution_count": 5,
   "metadata": {},
   "outputs": [
    {
     "data": {
      "text/html": [
       "<div>\n",
       "<style scoped>\n",
       "    .dataframe tbody tr th:only-of-type {\n",
       "        vertical-align: middle;\n",
       "    }\n",
       "\n",
       "    .dataframe tbody tr th {\n",
       "        vertical-align: top;\n",
       "    }\n",
       "\n",
       "    .dataframe thead th {\n",
       "        text-align: right;\n",
       "    }\n",
       "</style>\n",
       "<table border=\"1\" class=\"dataframe\">\n",
       "  <thead>\n",
       "    <tr style=\"text-align: right;\">\n",
       "      <th></th>\n",
       "      <th>key</th>\n",
       "      <th>doi</th>\n",
       "      <th>url</th>\n",
       "      <th>ee</th>\n",
       "      <th>year</th>\n",
       "      <th>authors</th>\n",
       "      <th>title</th>\n",
       "      <th>venue</th>\n",
       "      <th>pages</th>\n",
       "      <th>length</th>\n",
       "      <th>type</th>\n",
       "      <th>access</th>\n",
       "    </tr>\n",
       "  </thead>\n",
       "  <tbody>\n",
       "    <tr>\n",
       "      <th>0</th>\n",
       "      <td>conf/ircdl/AmbrosinoAPS23</td>\n",
       "      <td>NaN</td>\n",
       "      <td>https://dblp.org/rec/conf/ircdl/AmbrosinoAPS23</td>\n",
       "      <td>https://ceur-ws.org/Vol-3365/short16.pdf</td>\n",
       "      <td>2023</td>\n",
       "      <td>[Maria Anna Ambrosino, Vanja Annunziata, Maria...</td>\n",
       "      <td>The Hetor project: a joint effort to co-create...</td>\n",
       "      <td>IRCDL</td>\n",
       "      <td>216-224</td>\n",
       "      <td>8.0</td>\n",
       "      <td>Conference and Workshop Papers</td>\n",
       "      <td>open</td>\n",
       "    </tr>\n",
       "    <tr>\n",
       "      <th>1</th>\n",
       "      <td>conf/ircdl/BagchiD23</td>\n",
       "      <td>NaN</td>\n",
       "      <td>https://dblp.org/rec/conf/ircdl/BagchiD23</td>\n",
       "      <td>https://ceur-ws.org/Vol-3365/short1.pdf</td>\n",
       "      <td>2023</td>\n",
       "      <td>[Mayukh Bagchi, Subhashis Das]</td>\n",
       "      <td>Disentangling Domain Ontologies.</td>\n",
       "      <td>IRCDL</td>\n",
       "      <td>17-28</td>\n",
       "      <td>11.0</td>\n",
       "      <td>Conference and Workshop Papers</td>\n",
       "      <td>open</td>\n",
       "    </tr>\n",
       "    <tr>\n",
       "      <th>2</th>\n",
       "      <td>conf/ircdl/BaglioniMPBM23</td>\n",
       "      <td>NaN</td>\n",
       "      <td>https://dblp.org/rec/conf/ircdl/BaglioniMPBM23</td>\n",
       "      <td>https://ceur-ws.org/Vol-3365/paper2.pdf</td>\n",
       "      <td>2023</td>\n",
       "      <td>[Miriam Baglioni, Andrea Mannocci, Gina Pavone...</td>\n",
       "      <td>(Semi)automated disambiguation of scholarly re...</td>\n",
       "      <td>IRCDL</td>\n",
       "      <td>47-59</td>\n",
       "      <td>12.0</td>\n",
       "      <td>Conference and Workshop Papers</td>\n",
       "      <td>open</td>\n",
       "    </tr>\n",
       "    <tr>\n",
       "      <th>3</th>\n",
       "      <td>conf/ircdl/BarbutiBRCP23</td>\n",
       "      <td>NaN</td>\n",
       "      <td>https://dblp.org/rec/conf/ircdl/BarbutiBRCP23</td>\n",
       "      <td>https://ceur-ws.org/Vol-3365/short17.pdf</td>\n",
       "      <td>2023</td>\n",
       "      <td>[Nicola Barbuti, Mauro De Bari, Stefania Riso,...</td>\n",
       "      <td>The Open Memory Apulia Project. How Open Data ...</td>\n",
       "      <td>IRCDL</td>\n",
       "      <td>225-232</td>\n",
       "      <td>7.0</td>\n",
       "      <td>Conference and Workshop Papers</td>\n",
       "      <td>open</td>\n",
       "    </tr>\n",
       "    <tr>\n",
       "      <th>4</th>\n",
       "      <td>conf/ircdl/BardiBM23</td>\n",
       "      <td>NaN</td>\n",
       "      <td>https://dblp.org/rec/conf/ircdl/BardiBM23</td>\n",
       "      <td>https://ceur-ws.org/Vol-3365/short12.pdf</td>\n",
       "      <td>2023</td>\n",
       "      <td>[Alessia Bardi, Margo Bargheer, Paolo Manghi]</td>\n",
       "      <td>A Discovery Hub for Diamond Open Access publis...</td>\n",
       "      <td>IRCDL</td>\n",
       "      <td>162-166</td>\n",
       "      <td>4.0</td>\n",
       "      <td>Conference and Workshop Papers</td>\n",
       "      <td>open</td>\n",
       "    </tr>\n",
       "  </tbody>\n",
       "</table>\n",
       "</div>"
      ],
      "text/plain": [
       "                         key  doi  \\\n",
       "0  conf/ircdl/AmbrosinoAPS23  NaN   \n",
       "1       conf/ircdl/BagchiD23  NaN   \n",
       "2  conf/ircdl/BaglioniMPBM23  NaN   \n",
       "3   conf/ircdl/BarbutiBRCP23  NaN   \n",
       "4       conf/ircdl/BardiBM23  NaN   \n",
       "\n",
       "                                              url  \\\n",
       "0  https://dblp.org/rec/conf/ircdl/AmbrosinoAPS23   \n",
       "1       https://dblp.org/rec/conf/ircdl/BagchiD23   \n",
       "2  https://dblp.org/rec/conf/ircdl/BaglioniMPBM23   \n",
       "3   https://dblp.org/rec/conf/ircdl/BarbutiBRCP23   \n",
       "4       https://dblp.org/rec/conf/ircdl/BardiBM23   \n",
       "\n",
       "                                         ee  year  \\\n",
       "0  https://ceur-ws.org/Vol-3365/short16.pdf  2023   \n",
       "1   https://ceur-ws.org/Vol-3365/short1.pdf  2023   \n",
       "2   https://ceur-ws.org/Vol-3365/paper2.pdf  2023   \n",
       "3  https://ceur-ws.org/Vol-3365/short17.pdf  2023   \n",
       "4  https://ceur-ws.org/Vol-3365/short12.pdf  2023   \n",
       "\n",
       "                                             authors  \\\n",
       "0  [Maria Anna Ambrosino, Vanja Annunziata, Maria...   \n",
       "1                     [Mayukh Bagchi, Subhashis Das]   \n",
       "2  [Miriam Baglioni, Andrea Mannocci, Gina Pavone...   \n",
       "3  [Nicola Barbuti, Mauro De Bari, Stefania Riso,...   \n",
       "4      [Alessia Bardi, Margo Bargheer, Paolo Manghi]   \n",
       "\n",
       "                                               title  venue    pages  length  \\\n",
       "0  The Hetor project: a joint effort to co-create...  IRCDL  216-224     8.0   \n",
       "1                   Disentangling Domain Ontologies.  IRCDL    17-28    11.0   \n",
       "2  (Semi)automated disambiguation of scholarly re...  IRCDL    47-59    12.0   \n",
       "3  The Open Memory Apulia Project. How Open Data ...  IRCDL  225-232     7.0   \n",
       "4  A Discovery Hub for Diamond Open Access publis...  IRCDL  162-166     4.0   \n",
       "\n",
       "                             type access  \n",
       "0  Conference and Workshop Papers   open  \n",
       "1  Conference and Workshop Papers   open  \n",
       "2  Conference and Workshop Papers   open  \n",
       "3  Conference and Workshop Papers   open  \n",
       "4  Conference and Workshop Papers   open  "
      ]
     },
     "execution_count": 5,
     "metadata": {},
     "output_type": "execute_result"
    }
   ],
   "source": [
    "df = pd.read_csv('../data/processed/ircdl_dblp.csv')\n",
    "df.authors = df.authors.apply(literal_eval)\n",
    "\n",
    "df.head(5)"
   ]
  },
  {
   "cell_type": "code",
   "execution_count": 6,
   "metadata": {},
   "outputs": [
    {
     "name": "stdout",
     "output_type": "stream",
     "text": [
      "<class 'pandas.core.frame.DataFrame'>\n",
      "RangeIndex: 419 entries, 0 to 418\n",
      "Data columns (total 12 columns):\n",
      " #   Column   Non-Null Count  Dtype  \n",
      "---  ------   --------------  -----  \n",
      " 0   key      419 non-null    object \n",
      " 1   doi      249 non-null    object \n",
      " 2   url      419 non-null    object \n",
      " 3   ee       366 non-null    object \n",
      " 4   year     419 non-null    int64  \n",
      " 5   authors  419 non-null    object \n",
      " 6   title    419 non-null    object \n",
      " 7   venue    419 non-null    object \n",
      " 8   pages    366 non-null    object \n",
      " 9   length   366 non-null    float64\n",
      " 10  type     419 non-null    object \n",
      " 11  access   407 non-null    object \n",
      "dtypes: float64(1), int64(1), object(10)\n",
      "memory usage: 39.4+ KB\n"
     ]
    }
   ],
   "source": [
    "df.info()"
   ]
  },
  {
   "cell_type": "markdown",
   "metadata": {},
   "source": [
    "Examine type field"
   ]
  },
  {
   "cell_type": "code",
   "execution_count": 7,
   "metadata": {},
   "outputs": [
    {
     "data": {
      "text/plain": [
       "type\n",
       "Conference and Workshop Papers    398\n",
       "Editorship                         21\n",
       "Name: count, dtype: int64"
      ]
     },
     "execution_count": 7,
     "metadata": {},
     "output_type": "execute_result"
    }
   ],
   "source": [
    "df.type.value_counts()"
   ]
  },
  {
   "cell_type": "markdown",
   "metadata": {},
   "source": [
    "Filter papers only"
   ]
  },
  {
   "cell_type": "code",
   "execution_count": 8,
   "metadata": {},
   "outputs": [
    {
     "name": "stdout",
     "output_type": "stream",
     "text": [
      "<class 'pandas.core.frame.DataFrame'>\n",
      "Index: 398 entries, 0 to 417\n",
      "Data columns (total 12 columns):\n",
      " #   Column   Non-Null Count  Dtype  \n",
      "---  ------   --------------  -----  \n",
      " 0   key      398 non-null    object \n",
      " 1   doi      238 non-null    object \n",
      " 2   url      398 non-null    object \n",
      " 3   ee       349 non-null    object \n",
      " 4   year     398 non-null    int64  \n",
      " 5   authors  398 non-null    object \n",
      " 6   title    398 non-null    object \n",
      " 7   venue    398 non-null    object \n",
      " 8   pages    366 non-null    object \n",
      " 9   length   366 non-null    float64\n",
      " 10  type     398 non-null    object \n",
      " 11  access   398 non-null    object \n",
      "dtypes: float64(1), int64(1), object(10)\n",
      "memory usage: 40.4+ KB\n"
     ]
    }
   ],
   "source": [
    "papers = df[df.type == 'Conference and Workshop Papers']\n",
    "papers.info()"
   ]
  },
  {
   "cell_type": "markdown",
   "metadata": {},
   "source": [
    "Check venues"
   ]
  },
  {
   "cell_type": "code",
   "execution_count": 9,
   "metadata": {},
   "outputs": [
    {
     "data": {
      "text/plain": [
       "venue\n",
       "IRCDL           370\n",
       "VIPERC@IRCDL     18\n",
       "NLP4DL/AT4DL     10\n",
       "Name: count, dtype: int64"
      ]
     },
     "execution_count": 9,
     "metadata": {},
     "output_type": "execute_result"
    }
   ],
   "source": [
    "papers.venue.value_counts()"
   ]
  },
  {
   "cell_type": "markdown",
   "metadata": {},
   "source": [
    "Spurous venue at DBLP; filter IRCDL only"
   ]
  },
  {
   "cell_type": "code",
   "execution_count": 10,
   "metadata": {},
   "outputs": [
    {
     "name": "stdout",
     "output_type": "stream",
     "text": [
      "<class 'pandas.core.frame.DataFrame'>\n",
      "Index: 370 entries, 0 to 417\n",
      "Data columns (total 12 columns):\n",
      " #   Column   Non-Null Count  Dtype  \n",
      "---  ------   --------------  -----  \n",
      " 0   key      370 non-null    object \n",
      " 1   doi      228 non-null    object \n",
      " 2   url      370 non-null    object \n",
      " 3   ee       321 non-null    object \n",
      " 4   year     370 non-null    int64  \n",
      " 5   authors  370 non-null    object \n",
      " 6   title    370 non-null    object \n",
      " 7   venue    370 non-null    object \n",
      " 8   pages    338 non-null    object \n",
      " 9   length   338 non-null    float64\n",
      " 10  type     370 non-null    object \n",
      " 11  access   370 non-null    object \n",
      "dtypes: float64(1), int64(1), object(10)\n",
      "memory usage: 37.6+ KB\n"
     ]
    }
   ],
   "source": [
    "papers = papers[papers.venue == 'IRCDL']\n",
    "papers.info()"
   ]
  },
  {
   "cell_type": "markdown",
   "metadata": {},
   "source": [
    "Checking paper length"
   ]
  },
  {
   "cell_type": "code",
   "execution_count": 11,
   "metadata": {},
   "outputs": [
    {
     "data": {
      "text/plain": [
       "<Axes: >"
      ]
     },
     "execution_count": 11,
     "metadata": {},
     "output_type": "execute_result"
    },
    {
     "data": {
      "image/png": "[encoded data removed]",
      "text/plain": [
       "<Figure size 640x480 with 1 Axes>"
      ]
     },
     "metadata": {},
     "output_type": "display_data"
    }
   ],
   "source": [
    "papers.length.hist()"
   ]
  },
  {
   "cell_type": "markdown",
   "metadata": {},
   "source": [
    "Tell long and short papers apart (assumption on paper lenght)"
   ]
  },
  {
   "cell_type": "code",
   "execution_count": 12,
   "metadata": {},
   "outputs": [
    {
     "data": {
      "text/html": [
       "<div>\n",
       "<style scoped>\n",
       "    .dataframe tbody tr th:only-of-type {\n",
       "        vertical-align: middle;\n",
       "    }\n",
       "\n",
       "    .dataframe tbody tr th {\n",
       "        vertical-align: top;\n",
       "    }\n",
       "\n",
       "    .dataframe thead th {\n",
       "        text-align: right;\n",
       "    }\n",
       "</style>\n",
       "<table border=\"1\" class=\"dataframe\">\n",
       "  <thead>\n",
       "    <tr style=\"text-align: right;\">\n",
       "      <th></th>\n",
       "      <th>key</th>\n",
       "      <th>doi</th>\n",
       "      <th>url</th>\n",
       "      <th>ee</th>\n",
       "      <th>year</th>\n",
       "      <th>authors</th>\n",
       "      <th>title</th>\n",
       "      <th>venue</th>\n",
       "      <th>pages</th>\n",
       "      <th>length</th>\n",
       "      <th>type</th>\n",
       "      <th>access</th>\n",
       "    </tr>\n",
       "  </thead>\n",
       "  <tbody>\n",
       "    <tr>\n",
       "      <th>1</th>\n",
       "      <td>conf/ircdl/BagchiD23</td>\n",
       "      <td>NaN</td>\n",
       "      <td>https://dblp.org/rec/conf/ircdl/BagchiD23</td>\n",
       "      <td>https://ceur-ws.org/Vol-3365/short1.pdf</td>\n",
       "      <td>2023</td>\n",
       "      <td>[Mayukh Bagchi, Subhashis Das]</td>\n",
       "      <td>Disentangling Domain Ontologies.</td>\n",
       "      <td>IRCDL</td>\n",
       "      <td>17-28</td>\n",
       "      <td>11.0</td>\n",
       "      <td>Conference and Workshop Papers</td>\n",
       "      <td>open</td>\n",
       "    </tr>\n",
       "    <tr>\n",
       "      <th>2</th>\n",
       "      <td>conf/ircdl/BaglioniMPBM23</td>\n",
       "      <td>NaN</td>\n",
       "      <td>https://dblp.org/rec/conf/ircdl/BaglioniMPBM23</td>\n",
       "      <td>https://ceur-ws.org/Vol-3365/paper2.pdf</td>\n",
       "      <td>2023</td>\n",
       "      <td>[Miriam Baglioni, Andrea Mannocci, Gina Pavone...</td>\n",
       "      <td>(Semi)automated disambiguation of scholarly re...</td>\n",
       "      <td>IRCDL</td>\n",
       "      <td>47-59</td>\n",
       "      <td>12.0</td>\n",
       "      <td>Conference and Workshop Papers</td>\n",
       "      <td>open</td>\n",
       "    </tr>\n",
       "    <tr>\n",
       "      <th>5</th>\n",
       "      <td>conf/ircdl/BernasconiCM23</td>\n",
       "      <td>NaN</td>\n",
       "      <td>https://dblp.org/rec/conf/ircdl/BernasconiCM23</td>\n",
       "      <td>https://ceur-ws.org/Vol-3365/paper1.pdf</td>\n",
       "      <td>2023</td>\n",
       "      <td>[Eleonora Bernasconi, Miguel Ceriani, Massimo ...</td>\n",
       "      <td>Linked Data interfaces: a survey.</td>\n",
       "      <td>IRCDL</td>\n",
       "      <td>1-16</td>\n",
       "      <td>15.0</td>\n",
       "      <td>Conference and Workshop Papers</td>\n",
       "      <td>open</td>\n",
       "    </tr>\n",
       "    <tr>\n",
       "      <th>8</th>\n",
       "      <td>conf/ircdl/DeglInnocentiCC23</td>\n",
       "      <td>NaN</td>\n",
       "      <td>https://dblp.org/rec/conf/ircdl/DeglInnocentiCC23</td>\n",
       "      <td>https://ceur-ws.org/Vol-3365/paper5.pdf</td>\n",
       "      <td>2023</td>\n",
       "      <td>[Emiliano Degl&amp;apos;Innocenti, Leonardo Canova...</td>\n",
       "      <td>The RESTORE project: a final review.</td>\n",
       "      <td>IRCDL</td>\n",
       "      <td>167-179</td>\n",
       "      <td>12.0</td>\n",
       "      <td>Conference and Workshop Papers</td>\n",
       "      <td>open</td>\n",
       "    </tr>\n",
       "    <tr>\n",
       "      <th>10</th>\n",
       "      <td>conf/ircdl/GemelliVM23</td>\n",
       "      <td>NaN</td>\n",
       "      <td>https://dblp.org/rec/conf/ircdl/GemelliVM23</td>\n",
       "      <td>https://ceur-ws.org/Vol-3365/short14.pdf</td>\n",
       "      <td>2023</td>\n",
       "      <td>[Andrea Gemelli, Emanuele Vivoli, Simone Marinai]</td>\n",
       "      <td>CTE: A Dataset for Contextualized Table Extrac...</td>\n",
       "      <td>IRCDL</td>\n",
       "      <td>197-208</td>\n",
       "      <td>11.0</td>\n",
       "      <td>Conference and Workshop Papers</td>\n",
       "      <td>open</td>\n",
       "    </tr>\n",
       "  </tbody>\n",
       "</table>\n",
       "</div>"
      ],
      "text/plain": [
       "                             key  doi  \\\n",
       "1           conf/ircdl/BagchiD23  NaN   \n",
       "2      conf/ircdl/BaglioniMPBM23  NaN   \n",
       "5      conf/ircdl/BernasconiCM23  NaN   \n",
       "8   conf/ircdl/DeglInnocentiCC23  NaN   \n",
       "10        conf/ircdl/GemelliVM23  NaN   \n",
       "\n",
       "                                                  url  \\\n",
       "1           https://dblp.org/rec/conf/ircdl/BagchiD23   \n",
       "2      https://dblp.org/rec/conf/ircdl/BaglioniMPBM23   \n",
       "5      https://dblp.org/rec/conf/ircdl/BernasconiCM23   \n",
       "8   https://dblp.org/rec/conf/ircdl/DeglInnocentiCC23   \n",
       "10        https://dblp.org/rec/conf/ircdl/GemelliVM23   \n",
       "\n",
       "                                          ee  year  \\\n",
       "1    https://ceur-ws.org/Vol-3365/short1.pdf  2023   \n",
       "2    https://ceur-ws.org/Vol-3365/paper2.pdf  2023   \n",
       "5    https://ceur-ws.org/Vol-3365/paper1.pdf  2023   \n",
       "8    https://ceur-ws.org/Vol-3365/paper5.pdf  2023   \n",
       "10  https://ceur-ws.org/Vol-3365/short14.pdf  2023   \n",
       "\n",
       "                                              authors  \\\n",
       "1                      [Mayukh Bagchi, Subhashis Das]   \n",
       "2   [Miriam Baglioni, Andrea Mannocci, Gina Pavone...   \n",
       "5   [Eleonora Bernasconi, Miguel Ceriani, Massimo ...   \n",
       "8   [Emiliano Degl&apos;Innocenti, Leonardo Canova...   \n",
       "10  [Andrea Gemelli, Emanuele Vivoli, Simone Marinai]   \n",
       "\n",
       "                                                title  venue    pages  length  \\\n",
       "1                    Disentangling Domain Ontologies.  IRCDL    17-28    11.0   \n",
       "2   (Semi)automated disambiguation of scholarly re...  IRCDL    47-59    12.0   \n",
       "5                   Linked Data interfaces: a survey.  IRCDL     1-16    15.0   \n",
       "8                The RESTORE project: a final review.  IRCDL  167-179    12.0   \n",
       "10  CTE: A Dataset for Contextualized Table Extrac...  IRCDL  197-208    11.0   \n",
       "\n",
       "                              type access  \n",
       "1   Conference and Workshop Papers   open  \n",
       "2   Conference and Workshop Papers   open  \n",
       "5   Conference and Workshop Papers   open  \n",
       "8   Conference and Workshop Papers   open  \n",
       "10  Conference and Workshop Papers   open  "
      ]
     },
     "execution_count": 12,
     "metadata": {},
     "output_type": "execute_result"
    }
   ],
   "source": [
    "long = papers[papers.length >= 10]\n",
    "short = papers[papers.length < 10]\n",
    "long.head()"
   ]
  },
  {
   "cell_type": "code",
   "execution_count": 13,
   "metadata": {},
   "outputs": [
    {
     "data": {
      "text/html": [
       "<div>\n",
       "<style scoped>\n",
       "    .dataframe tbody tr th:only-of-type {\n",
       "        vertical-align: middle;\n",
       "    }\n",
       "\n",
       "    .dataframe tbody tr th {\n",
       "        vertical-align: top;\n",
       "    }\n",
       "\n",
       "    .dataframe thead th {\n",
       "        text-align: right;\n",
       "    }\n",
       "</style>\n",
       "<table border=\"1\" class=\"dataframe\">\n",
       "  <thead>\n",
       "    <tr style=\"text-align: right;\">\n",
       "      <th></th>\n",
       "      <th>key</th>\n",
       "      <th>doi</th>\n",
       "      <th>url</th>\n",
       "      <th>ee</th>\n",
       "      <th>year</th>\n",
       "      <th>authors</th>\n",
       "      <th>title</th>\n",
       "      <th>venue</th>\n",
       "      <th>pages</th>\n",
       "      <th>length</th>\n",
       "      <th>type</th>\n",
       "      <th>access</th>\n",
       "    </tr>\n",
       "  </thead>\n",
       "  <tbody>\n",
       "    <tr>\n",
       "      <th>0</th>\n",
       "      <td>conf/ircdl/AmbrosinoAPS23</td>\n",
       "      <td>NaN</td>\n",
       "      <td>https://dblp.org/rec/conf/ircdl/AmbrosinoAPS23</td>\n",
       "      <td>https://ceur-ws.org/Vol-3365/short16.pdf</td>\n",
       "      <td>2023</td>\n",
       "      <td>[Maria Anna Ambrosino, Vanja Annunziata, Maria...</td>\n",
       "      <td>The Hetor project: a joint effort to co-create...</td>\n",
       "      <td>IRCDL</td>\n",
       "      <td>216-224</td>\n",
       "      <td>8.0</td>\n",
       "      <td>Conference and Workshop Papers</td>\n",
       "      <td>open</td>\n",
       "    </tr>\n",
       "    <tr>\n",
       "      <th>3</th>\n",
       "      <td>conf/ircdl/BarbutiBRCP23</td>\n",
       "      <td>NaN</td>\n",
       "      <td>https://dblp.org/rec/conf/ircdl/BarbutiBRCP23</td>\n",
       "      <td>https://ceur-ws.org/Vol-3365/short17.pdf</td>\n",
       "      <td>2023</td>\n",
       "      <td>[Nicola Barbuti, Mauro De Bari, Stefania Riso,...</td>\n",
       "      <td>The Open Memory Apulia Project. How Open Data ...</td>\n",
       "      <td>IRCDL</td>\n",
       "      <td>225-232</td>\n",
       "      <td>7.0</td>\n",
       "      <td>Conference and Workshop Papers</td>\n",
       "      <td>open</td>\n",
       "    </tr>\n",
       "    <tr>\n",
       "      <th>4</th>\n",
       "      <td>conf/ircdl/BardiBM23</td>\n",
       "      <td>NaN</td>\n",
       "      <td>https://dblp.org/rec/conf/ircdl/BardiBM23</td>\n",
       "      <td>https://ceur-ws.org/Vol-3365/short12.pdf</td>\n",
       "      <td>2023</td>\n",
       "      <td>[Alessia Bardi, Margo Bargheer, Paolo Manghi]</td>\n",
       "      <td>A Discovery Hub for Diamond Open Access publis...</td>\n",
       "      <td>IRCDL</td>\n",
       "      <td>162-166</td>\n",
       "      <td>4.0</td>\n",
       "      <td>Conference and Workshop Papers</td>\n",
       "      <td>open</td>\n",
       "    </tr>\n",
       "    <tr>\n",
       "      <th>6</th>\n",
       "      <td>conf/ircdl/CastellanoSV23</td>\n",
       "      <td>NaN</td>\n",
       "      <td>https://dblp.org/rec/conf/ircdl/CastellanoSV23</td>\n",
       "      <td>https://ceur-ws.org/Vol-3365/short13.pdf</td>\n",
       "      <td>2023</td>\n",
       "      <td>[Giovanna Castellano, Raffaele Scaringi, Genna...</td>\n",
       "      <td>Automatic analysis of artistic heritage throug...</td>\n",
       "      <td>IRCDL</td>\n",
       "      <td>192-196</td>\n",
       "      <td>4.0</td>\n",
       "      <td>Conference and Workshop Papers</td>\n",
       "      <td>open</td>\n",
       "    </tr>\n",
       "    <tr>\n",
       "      <th>7</th>\n",
       "      <td>conf/ircdl/CastellucciC23</td>\n",
       "      <td>NaN</td>\n",
       "      <td>https://dblp.org/rec/conf/ircdl/CastellucciC23</td>\n",
       "      <td>https://ceur-ws.org/Vol-3365/short15.pdf</td>\n",
       "      <td>2023</td>\n",
       "      <td>[Paola Castellucci, Gianfranco Crupi]</td>\n",
       "      <td>Put the hands on! For a movable, interactive, ...</td>\n",
       "      <td>IRCDL</td>\n",
       "      <td>209-215</td>\n",
       "      <td>6.0</td>\n",
       "      <td>Conference and Workshop Papers</td>\n",
       "      <td>open</td>\n",
       "    </tr>\n",
       "  </tbody>\n",
       "</table>\n",
       "</div>"
      ],
      "text/plain": [
       "                         key  doi  \\\n",
       "0  conf/ircdl/AmbrosinoAPS23  NaN   \n",
       "3   conf/ircdl/BarbutiBRCP23  NaN   \n",
       "4       conf/ircdl/BardiBM23  NaN   \n",
       "6  conf/ircdl/CastellanoSV23  NaN   \n",
       "7  conf/ircdl/CastellucciC23  NaN   \n",
       "\n",
       "                                              url  \\\n",
       "0  https://dblp.org/rec/conf/ircdl/AmbrosinoAPS23   \n",
       "3   https://dblp.org/rec/conf/ircdl/BarbutiBRCP23   \n",
       "4       https://dblp.org/rec/conf/ircdl/BardiBM23   \n",
       "6  https://dblp.org/rec/conf/ircdl/CastellanoSV23   \n",
       "7  https://dblp.org/rec/conf/ircdl/CastellucciC23   \n",
       "\n",
       "                                         ee  year  \\\n",
       "0  https://ceur-ws.org/Vol-3365/short16.pdf  2023   \n",
       "3  https://ceur-ws.org/Vol-3365/short17.pdf  2023   \n",
       "4  https://ceur-ws.org/Vol-3365/short12.pdf  2023   \n",
       "6  https://ceur-ws.org/Vol-3365/short13.pdf  2023   \n",
       "7  https://ceur-ws.org/Vol-3365/short15.pdf  2023   \n",
       "\n",
       "                                             authors  \\\n",
       "0  [Maria Anna Ambrosino, Vanja Annunziata, Maria...   \n",
       "3  [Nicola Barbuti, Mauro De Bari, Stefania Riso,...   \n",
       "4      [Alessia Bardi, Margo Bargheer, Paolo Manghi]   \n",
       "6  [Giovanna Castellano, Raffaele Scaringi, Genna...   \n",
       "7              [Paola Castellucci, Gianfranco Crupi]   \n",
       "\n",
       "                                               title  venue    pages  length  \\\n",
       "0  The Hetor project: a joint effort to co-create...  IRCDL  216-224     8.0   \n",
       "3  The Open Memory Apulia Project. How Open Data ...  IRCDL  225-232     7.0   \n",
       "4  A Discovery Hub for Diamond Open Access publis...  IRCDL  162-166     4.0   \n",
       "6  Automatic analysis of artistic heritage throug...  IRCDL  192-196     4.0   \n",
       "7  Put the hands on! For a movable, interactive, ...  IRCDL  209-215     6.0   \n",
       "\n",
       "                             type access  \n",
       "0  Conference and Workshop Papers   open  \n",
       "3  Conference and Workshop Papers   open  \n",
       "4  Conference and Workshop Papers   open  \n",
       "6  Conference and Workshop Papers   open  \n",
       "7  Conference and Workshop Papers   open  "
      ]
     },
     "execution_count": 13,
     "metadata": {},
     "output_type": "execute_result"
    }
   ],
   "source": [
    "short.head()"
   ]
  },
  {
   "cell_type": "markdown",
   "metadata": {},
   "source": [
    "### Top contributors"
   ]
  },
  {
   "cell_type": "markdown",
   "metadata": {},
   "source": [
    "Explode authors of each single paper"
   ]
  },
  {
   "cell_type": "code",
   "execution_count": 14,
   "metadata": {},
   "outputs": [
    {
     "data": {
      "text/plain": [
       "authors\n",
       "Stefano Ferilli            18\n",
       "Floriana Esposito          13\n",
       "Nicola Ferro 0001          12\n",
       "Gianmaria Silvello         11\n",
       "Giorgio Maria Di Nunzio     9\n",
       "                           ..\n",
       "Caterina Bergami            1\n",
       "Alessandra Pugnetti         1\n",
       "Laura Pandolfo              1\n",
       "Luca Pulina                 1\n",
       "Marco Degemmis              1\n",
       "Name: count, Length: 320, dtype: int64"
      ]
     },
     "execution_count": 14,
     "metadata": {},
     "output_type": "execute_result"
    }
   ],
   "source": [
    "long_contributors = long.authors.explode().value_counts()\n",
    "long_contributors"
   ]
  },
  {
   "cell_type": "markdown",
   "metadata": {},
   "source": [
    "Filter out Steering Committee and Advisory Board members and find top contributors (assumption on number of **long papers** published)"
   ]
  },
  {
   "cell_type": "code",
   "execution_count": 25,
   "metadata": {},
   "outputs": [
    {
     "data": {
      "text/plain": [
       "authors\n",
       "Nicola Ferro 0001          12\n",
       "Giorgio Maria Di Nunzio     9\n",
       "Nicola Orio                 7\n",
       "Anna Maria Tammaro          6\n",
       "Domenico Redavid            5\n",
       "Name: count, dtype: int64"
      ]
     },
     "execution_count": 25,
     "metadata": {},
     "output_type": "execute_result"
    }
   ],
   "source": [
    "to_filter = 'bimbo|manghi|agosti|ferilli|grana|poggi|serra|silvello|catarci|thanos|esposito|tasso'\n",
    "top_long = long_contributors[(~long_contributors.index.str.lower().str.contains(to_filter)) & (long_contributors > 3)]\n",
    "top_long[:5]"
   ]
  },
  {
   "cell_type": "markdown",
   "metadata": {},
   "source": [
    "Repeat for **short papers**"
   ]
  },
  {
   "cell_type": "code",
   "execution_count": 16,
   "metadata": {},
   "outputs": [
    {
     "data": {
      "text/plain": [
       "authors\n",
       "Nicola Ferro 0001       22\n",
       "Gianmaria Silvello      14\n",
       "Maristella Agosti       12\n",
       "Nicola Orio             11\n",
       "Paolo Manghi            11\n",
       "                        ..\n",
       "Laura Ciancio            1\n",
       "Rosanna De Rosa 0001     1\n",
       "Eleonora Pantò           1\n",
       "Fabio Nascimbeni         1\n",
       "Nicola Mastidoro         1\n",
       "Name: count, Length: 319, dtype: int64"
      ]
     },
     "execution_count": 16,
     "metadata": {},
     "output_type": "execute_result"
    }
   ],
   "source": [
    "short_contributors = short.authors.explode().value_counts()\n",
    "short_contributors"
   ]
  },
  {
   "cell_type": "code",
   "execution_count": 24,
   "metadata": {},
   "outputs": [
    {
     "data": {
      "text/plain": [
       "authors\n",
       "Nicola Ferro 0001    22\n",
       "Nicola Orio          11\n",
       "Carlo Meghini        10\n",
       "Riccardo Miotto       6\n",
       "Vittore Casarosa      6\n",
       "Name: count, dtype: int64"
      ]
     },
     "execution_count": 24,
     "metadata": {},
     "output_type": "execute_result"
    }
   ],
   "source": [
    "top_short = short_contributors[(~short_contributors.index.str.lower().str.contains(to_filter)) & (short_contributors > 3)]\n",
    "top_short[:5]"
   ]
  },
  {
   "cell_type": "markdown",
   "metadata": {},
   "source": [
    "# Cited papers"
   ]
  },
  {
   "cell_type": "code",
   "execution_count": 18,
   "metadata": {},
   "outputs": [
    {
     "data": {
      "text/html": [
       "<div>\n",
       "<style scoped>\n",
       "    .dataframe tbody tr th:only-of-type {\n",
       "        vertical-align: middle;\n",
       "    }\n",
       "\n",
       "    .dataframe tbody tr th {\n",
       "        vertical-align: top;\n",
       "    }\n",
       "\n",
       "    .dataframe thead th {\n",
       "        text-align: right;\n",
       "    }\n",
       "</style>\n",
       "<table border=\"1\" class=\"dataframe\">\n",
       "  <thead>\n",
       "    <tr style=\"text-align: right;\">\n",
       "      <th></th>\n",
       "      <th>id</th>\n",
       "      <th>pid</th>\n",
       "      <th>title</th>\n",
       "      <th>authors</th>\n",
       "      <th>venue</th>\n",
       "      <th>source</th>\n",
       "      <th>year</th>\n",
       "    </tr>\n",
       "  </thead>\n",
       "  <tbody>\n",
       "    <tr>\n",
       "      <th>0</th>\n",
       "      <td>50|doi_________::dfca728ac0f8afd45a2089c232eb71c8</td>\n",
       "      <td>10.1108/03074801211282920</td>\n",
       "      <td>Benefits of a conceptual shift from library‐sp...</td>\n",
       "      <td>Jane Chandler,Brett Stevens,Penny Ross,Getaneh...</td>\n",
       "      <td>New Library World</td>\n",
       "      <td>Crossref</td>\n",
       "      <td>2012-11-16</td>\n",
       "    </tr>\n",
       "    <tr>\n",
       "      <th>1</th>\n",
       "      <td>50|doi_________::fd062def19fb1641fd47bf0758138c0f</td>\n",
       "      <td>10.1007/978-3-642-22913-8_6</td>\n",
       "      <td>Transductive Learning of Logical Structures fr...</td>\n",
       "      <td>Donato Malerba,Michelangelo Ceci,Corrado Loglisci</td>\n",
       "      <td>\\N</td>\n",
       "      <td>Crossref,Learning Structure and Schemas from D...</td>\n",
       "      <td>2011-01-01</td>\n",
       "    </tr>\n",
       "    <tr>\n",
       "      <th>2</th>\n",
       "      <td>50|doi_________::00f97f7f64a11decb82249c58f0f6a76</td>\n",
       "      <td>10.1145/872757.872809</td>\n",
       "      <td>Stream processing of XPath queries with predic...</td>\n",
       "      <td>Ashish Kumar Gupta,Dan Suciu</td>\n",
       "      <td>Proceedings of the 2003 ACM SIGMOD internation...</td>\n",
       "      <td>Crossref,SIGMOD Conference</td>\n",
       "      <td>2003-06-09</td>\n",
       "    </tr>\n",
       "    <tr>\n",
       "      <th>3</th>\n",
       "      <td>50|doi_________::35b24be7fb8275c4588d28aa02cd748e</td>\n",
       "      <td>10.1080/01615440.1995.9956362</td>\n",
       "      <td>Image Processing and the Study of Manuscript T...</td>\n",
       "      <td>Dino Buzzetti</td>\n",
       "      <td>Historical Methods: A Journal of Quantitative ...</td>\n",
       "      <td>Crossref</td>\n",
       "      <td>1995-06-01</td>\n",
       "    </tr>\n",
       "    <tr>\n",
       "      <th>4</th>\n",
       "      <td>50|doi_dedup___::fee929fdeab986ecb4ac662ce3a484e2</td>\n",
       "      <td>10.20368/1971-8829/798</td>\n",
       "      <td>The Challenge of Open Education</td>\n",
       "      <td>Pantò, Eleonora,Comas-Quinn, Anna</td>\n",
       "      <td>\\N</td>\n",
       "      <td>The Open University (ORO - Open Research Onlin...</td>\n",
       "      <td>2013-01-15</td>\n",
       "    </tr>\n",
       "  </tbody>\n",
       "</table>\n",
       "</div>"
      ],
      "text/plain": [
       "                                                  id  \\\n",
       "0  50|doi_________::dfca728ac0f8afd45a2089c232eb71c8   \n",
       "1  50|doi_________::fd062def19fb1641fd47bf0758138c0f   \n",
       "2  50|doi_________::00f97f7f64a11decb82249c58f0f6a76   \n",
       "3  50|doi_________::35b24be7fb8275c4588d28aa02cd748e   \n",
       "4  50|doi_dedup___::fee929fdeab986ecb4ac662ce3a484e2   \n",
       "\n",
       "                             pid  \\\n",
       "0      10.1108/03074801211282920   \n",
       "1    10.1007/978-3-642-22913-8_6   \n",
       "2          10.1145/872757.872809   \n",
       "3  10.1080/01615440.1995.9956362   \n",
       "4         10.20368/1971-8829/798   \n",
       "\n",
       "                                               title  \\\n",
       "0  Benefits of a conceptual shift from library‐sp...   \n",
       "1  Transductive Learning of Logical Structures fr...   \n",
       "2  Stream processing of XPath queries with predic...   \n",
       "3  Image Processing and the Study of Manuscript T...   \n",
       "4                    The Challenge of Open Education   \n",
       "\n",
       "                                             authors  \\\n",
       "0  Jane Chandler,Brett Stevens,Penny Ross,Getaneh...   \n",
       "1  Donato Malerba,Michelangelo Ceci,Corrado Loglisci   \n",
       "2                       Ashish Kumar Gupta,Dan Suciu   \n",
       "3                                      Dino Buzzetti   \n",
       "4                  Pantò, Eleonora,Comas-Quinn, Anna   \n",
       "\n",
       "                                               venue  \\\n",
       "0                                  New Library World   \n",
       "1                                                 \\N   \n",
       "2  Proceedings of the 2003 ACM SIGMOD internation...   \n",
       "3  Historical Methods: A Journal of Quantitative ...   \n",
       "4                                                 \\N   \n",
       "\n",
       "                                              source        year  \n",
       "0                                           Crossref  2012-11-16  \n",
       "1  Crossref,Learning Structure and Schemas from D...  2011-01-01  \n",
       "2                         Crossref,SIGMOD Conference  2003-06-09  \n",
       "3                                           Crossref  1995-06-01  \n",
       "4  The Open University (ORO - Open Research Onlin...  2013-01-15  "
      ]
     },
     "execution_count": 18,
     "metadata": {},
     "output_type": "execute_result"
    }
   ],
   "source": [
    "cited = pd.read_csv('../data/processed/cited_from_ircdl.tsv', sep='\\t')\n",
    "cited.head(5)"
   ]
  },
  {
   "cell_type": "code",
   "execution_count": 19,
   "metadata": {},
   "outputs": [
    {
     "name": "stdout",
     "output_type": "stream",
     "text": [
      "<class 'pandas.core.frame.DataFrame'>\n",
      "RangeIndex: 1753 entries, 0 to 1752\n",
      "Data columns (total 7 columns):\n",
      " #   Column   Non-Null Count  Dtype \n",
      "---  ------   --------------  ----- \n",
      " 0   id       1753 non-null   object\n",
      " 1   pid      1749 non-null   object\n",
      " 2   title    1753 non-null   object\n",
      " 3   authors  1746 non-null   object\n",
      " 4   venue    1748 non-null   object\n",
      " 5   source   1727 non-null   object\n",
      " 6   year     1743 non-null   object\n",
      "dtypes: object(7)\n",
      "memory usage: 96.0+ KB\n"
     ]
    }
   ],
   "source": [
    "cited.info()"
   ]
  },
  {
   "cell_type": "code",
   "execution_count": 20,
   "metadata": {},
   "outputs": [
    {
     "data": {
      "text/plain": [
       "venue\n",
       "\\N                                                                                            437\n",
       "D-Lib Magazine                                                                                 35\n",
       "Communications of the ACM                                                                      31\n",
       "IEEE Transactions on Pattern Analysis and Machine Intelligence                                 19\n",
       "Information Processing &amp; Management                                                        18\n",
       "                                                                                             ... \n",
       "Journal of Natural Language Processing                                                          1\n",
       "2017 IEEE International Conference on Multimedia &amp; Expo Workshops (ICMEW)                   1\n",
       "2016 13th International Conference on Remote Engineering and Virtual Instrumentation (REV)      1\n",
       "2016 IEEE International Conference on Image Processing (ICIP)                                   1\n",
       "International Journal of Digital Library Systems                                                1\n",
       "Name: count, Length: 709, dtype: int64"
      ]
     },
     "execution_count": 20,
     "metadata": {},
     "output_type": "execute_result"
    }
   ],
   "source": [
    "cited.venue.value_counts()"
   ]
  },
  {
   "cell_type": "markdown",
   "metadata": {},
   "source": [
    "# Citing papers"
   ]
  },
  {
   "cell_type": "code",
   "execution_count": 21,
   "metadata": {},
   "outputs": [
    {
     "data": {
      "text/html": [
       "<div>\n",
       "<style scoped>\n",
       "    .dataframe tbody tr th:only-of-type {\n",
       "        vertical-align: middle;\n",
       "    }\n",
       "\n",
       "    .dataframe tbody tr th {\n",
       "        vertical-align: top;\n",
       "    }\n",
       "\n",
       "    .dataframe thead th {\n",
       "        text-align: right;\n",
       "    }\n",
       "</style>\n",
       "<table border=\"1\" class=\"dataframe\">\n",
       "  <thead>\n",
       "    <tr style=\"text-align: right;\">\n",
       "      <th></th>\n",
       "      <th>id</th>\n",
       "      <th>pid</th>\n",
       "      <th>title</th>\n",
       "      <th>authors</th>\n",
       "      <th>venue</th>\n",
       "      <th>source</th>\n",
       "      <th>year</th>\n",
       "    </tr>\n",
       "  </thead>\n",
       "  <tbody>\n",
       "    <tr>\n",
       "      <th>0</th>\n",
       "      <td>50|doi_dedup___::dba616d3211017c80877471af84d2ff1</td>\n",
       "      <td>10.1504/ijmso.2014.059125</td>\n",
       "      <td>A linked open data approach for geolinguistics...</td>\n",
       "      <td>Giorgio Maria Di Nunzio,Emanuele Di Buccio,Gia...</td>\n",
       "      <td>International Journal of Metadata, Semantics a...</td>\n",
       "      <td>Crossref</td>\n",
       "      <td>2014-01-01</td>\n",
       "    </tr>\n",
       "    <tr>\n",
       "      <th>1</th>\n",
       "      <td>50|doi_dedup___::8a53cd6b8ebfc5290238345e9c34d0f4</td>\n",
       "      <td>10.1109/icpr56361.2022.9956189,10.48550/arxiv....</td>\n",
       "      <td>The LAM Dataset: A Novel Benchmark for Line-Le...</td>\n",
       "      <td>Silvia Cascianelli,Pippi, Vittorio,Martin, Maa...</td>\n",
       "      <td>2022 26th International Conference on Pattern ...</td>\n",
       "      <td>Crossref,Università degli studi di Modena e Re...</td>\n",
       "      <td>2022-08-21</td>\n",
       "    </tr>\n",
       "    <tr>\n",
       "      <th>2</th>\n",
       "      <td>50|doi_dedup___::045a8039ab61d25a2f92274a8adb9472</td>\n",
       "      <td>10.1007/978-3-030-39905-4_15</td>\n",
       "      <td>RepOSGate: Open Science Gateways for Instituti...</td>\n",
       "      <td>Silvia Giannini,Michele Artini,Paolo Manghi,Le...</td>\n",
       "      <td>\\N</td>\n",
       "      <td>Crossref,Digital Libraries: The Era of Big Dat...</td>\n",
       "      <td>2020-01-01</td>\n",
       "    </tr>\n",
       "    <tr>\n",
       "      <th>3</th>\n",
       "      <td>50|doi_dedup___::61c30fba82de097bc5e999a8f8904ed6</td>\n",
       "      <td>10.1007/s10032-022-00425-4,36687334,PMC9838515</td>\n",
       "      <td>Adaptive dewarping of severely warped camera-c...</td>\n",
       "      <td>C. H. Nachappa,N. Shobha Rani,Peeta Basa Pati,...</td>\n",
       "      <td>International Journal on Document Analysis and...</td>\n",
       "      <td>Crossref</td>\n",
       "      <td>2023-01-09</td>\n",
       "    </tr>\n",
       "    <tr>\n",
       "      <th>4</th>\n",
       "      <td>50|doi_________::5f28cdb9fe5131c3c40b6c02b4c8b032</td>\n",
       "      <td>10.20913/1815-3186-2018-4-87-94</td>\n",
       "      <td>Мировые тенденции развития библиотек: оптимизм...</td>\n",
       "      <td>NaN</td>\n",
       "      <td>Bibliosphere</td>\n",
       "      <td>Crossref</td>\n",
       "      <td>2018-12-30</td>\n",
       "    </tr>\n",
       "  </tbody>\n",
       "</table>\n",
       "</div>"
      ],
      "text/plain": [
       "                                                  id  \\\n",
       "0  50|doi_dedup___::dba616d3211017c80877471af84d2ff1   \n",
       "1  50|doi_dedup___::8a53cd6b8ebfc5290238345e9c34d0f4   \n",
       "2  50|doi_dedup___::045a8039ab61d25a2f92274a8adb9472   \n",
       "3  50|doi_dedup___::61c30fba82de097bc5e999a8f8904ed6   \n",
       "4  50|doi_________::5f28cdb9fe5131c3c40b6c02b4c8b032   \n",
       "\n",
       "                                                 pid  \\\n",
       "0                          10.1504/ijmso.2014.059125   \n",
       "1  10.1109/icpr56361.2022.9956189,10.48550/arxiv....   \n",
       "2                       10.1007/978-3-030-39905-4_15   \n",
       "3     10.1007/s10032-022-00425-4,36687334,PMC9838515   \n",
       "4                    10.20913/1815-3186-2018-4-87-94   \n",
       "\n",
       "                                               title  \\\n",
       "0  A linked open data approach for geolinguistics...   \n",
       "1  The LAM Dataset: A Novel Benchmark for Line-Le...   \n",
       "2  RepOSGate: Open Science Gateways for Instituti...   \n",
       "3  Adaptive dewarping of severely warped camera-c...   \n",
       "4  Мировые тенденции развития библиотек: оптимизм...   \n",
       "\n",
       "                                             authors  \\\n",
       "0  Giorgio Maria Di Nunzio,Emanuele Di Buccio,Gia...   \n",
       "1  Silvia Cascianelli,Pippi, Vittorio,Martin, Maa...   \n",
       "2  Silvia Giannini,Michele Artini,Paolo Manghi,Le...   \n",
       "3  C. H. Nachappa,N. Shobha Rani,Peeta Basa Pati,...   \n",
       "4                                                NaN   \n",
       "\n",
       "                                               venue  \\\n",
       "0  International Journal of Metadata, Semantics a...   \n",
       "1  2022 26th International Conference on Pattern ...   \n",
       "2                                                 \\N   \n",
       "3  International Journal on Document Analysis and...   \n",
       "4                                       Bibliosphere   \n",
       "\n",
       "                                              source        year  \n",
       "0                                           Crossref  2014-01-01  \n",
       "1  Crossref,Università degli studi di Modena e Re...  2022-08-21  \n",
       "2  Crossref,Digital Libraries: The Era of Big Dat...  2020-01-01  \n",
       "3                                           Crossref  2023-01-09  \n",
       "4                                           Crossref  2018-12-30  "
      ]
     },
     "execution_count": 21,
     "metadata": {},
     "output_type": "execute_result"
    }
   ],
   "source": [
    "citing = pd.read_csv('../data/processed/citing_ircdl.tsv', sep='\\t')\n",
    "citing.head(5)"
   ]
  },
  {
   "cell_type": "code",
   "execution_count": 22,
   "metadata": {},
   "outputs": [
    {
     "data": {
      "text/plain": [
       "venue\n",
       "\\N                                                                                                          166\n",
       "Procedia Computer Science                                                                                    12\n",
       "Multimedia Tools and Applications                                                                             7\n",
       "IEEE Access                                                                                                   6\n",
       "International Journal on Digital Libraries                                                                    6\n",
       "                                                                                                           ... \n",
       "Journal of Medical Internet Research                                                                          1\n",
       "2020 IEEE Sixth International Conference on Big Data Computing Service and Applications (BigDataService)      1\n",
       "2020 International Joint Conference on Neural Networks (IJCNN)                                                1\n",
       "2020 IEEE Conference on e-Learning, e-Management and e-Services (IC3e)                                        1\n",
       "Journal of Intelligent &amp; Fuzzy Systems                                                                    1\n",
       "Name: count, Length: 231, dtype: int64"
      ]
     },
     "execution_count": 22,
     "metadata": {},
     "output_type": "execute_result"
    }
   ],
   "source": [
    "citing.venue.value_counts()"
   ]
  },
  {
   "cell_type": "code",
   "execution_count": 23,
   "metadata": {},
   "outputs": [
    {
     "data": {
      "text/html": [
       "<div>\n",
       "<style scoped>\n",
       "    .dataframe tbody tr th:only-of-type {\n",
       "        vertical-align: middle;\n",
       "    }\n",
       "\n",
       "    .dataframe tbody tr th {\n",
       "        vertical-align: top;\n",
       "    }\n",
       "\n",
       "    .dataframe thead th {\n",
       "        text-align: right;\n",
       "    }\n",
       "</style>\n",
       "<table border=\"1\" class=\"dataframe\">\n",
       "  <thead>\n",
       "    <tr style=\"text-align: right;\">\n",
       "      <th></th>\n",
       "      <th>id</th>\n",
       "      <th>pid</th>\n",
       "      <th>title</th>\n",
       "      <th>authors</th>\n",
       "      <th>venue</th>\n",
       "      <th>source</th>\n",
       "      <th>year</th>\n",
       "    </tr>\n",
       "  </thead>\n",
       "  <tbody>\n",
       "    <tr>\n",
       "      <th>2</th>\n",
       "      <td>50|doi_dedup___::045a8039ab61d25a2f92274a8adb9472</td>\n",
       "      <td>10.1007/978-3-030-39905-4_15</td>\n",
       "      <td>RepOSGate: Open Science Gateways for Instituti...</td>\n",
       "      <td>Silvia Giannini,Michele Artini,Paolo Manghi,Le...</td>\n",
       "      <td>\\N</td>\n",
       "      <td>Crossref,Digital Libraries: The Era of Big Dat...</td>\n",
       "      <td>2020-01-01</td>\n",
       "    </tr>\n",
       "    <tr>\n",
       "      <th>5</th>\n",
       "      <td>50|doi_________::e4fef07b42bf6d3c0563158c11801a12</td>\n",
       "      <td>10.1007/978-3-319-08732-0_2</td>\n",
       "      <td>Authoring Composite Documents and Their Descri...</td>\n",
       "      <td>Tsuyoshi Sugibuchi,Nicolas Spyratos</td>\n",
       "      <td>\\N</td>\n",
       "      <td>Crossref,Communications in Computer and Inform...</td>\n",
       "      <td>2014-01-01</td>\n",
       "    </tr>\n",
       "    <tr>\n",
       "      <th>6</th>\n",
       "      <td>50|doi_________::e808f20ed76ff7dc48efdcd83cae7eb0</td>\n",
       "      <td>10.1007/978-3-319-08407-7_14</td>\n",
       "      <td>A relational unsupervised approach to author i...</td>\n",
       "      <td>Stefano Ferilli,Fulvio Rotella,Fabio Leuzzi</td>\n",
       "      <td>\\N</td>\n",
       "      <td>Crossref,New Frontiers in Mining Complex Patte...</td>\n",
       "      <td>2014-01-01</td>\n",
       "    </tr>\n",
       "    <tr>\n",
       "      <th>10</th>\n",
       "      <td>50|doi_dedup___::8fd6574f332f77828d1f540d873fd569</td>\n",
       "      <td>10.1007/978-3-642-40050-6_7</td>\n",
       "      <td>Preserving Authenticity Evidence to Assess Pro...</td>\n",
       "      <td>Luigi Briguglio,Maria Guercio,Silvio Salza</td>\n",
       "      <td>\\N</td>\n",
       "      <td>Crossref,Lecture Notes in Computer Science ISB...</td>\n",
       "      <td>2013-01-01</td>\n",
       "    </tr>\n",
       "    <tr>\n",
       "      <th>14</th>\n",
       "      <td>50|doi_dedup___::32ebde46194104a1f7cfad5524f4d1a6</td>\n",
       "      <td>10.1007/978-3-319-73165-0_3</td>\n",
       "      <td>A Software Architecture for Narratives,A Softw...</td>\n",
       "      <td>Daniele Metilli,Filippo Benedetti,Valentina Ba...</td>\n",
       "      <td>\\N</td>\n",
       "      <td>Crossref,Communications in Computer and Inform...</td>\n",
       "      <td>2017-12-21</td>\n",
       "    </tr>\n",
       "    <tr>\n",
       "      <th>...</th>\n",
       "      <td>...</td>\n",
       "      <td>...</td>\n",
       "      <td>...</td>\n",
       "      <td>...</td>\n",
       "      <td>...</td>\n",
       "      <td>...</td>\n",
       "      <td>...</td>\n",
       "    </tr>\n",
       "    <tr>\n",
       "      <th>452</th>\n",
       "      <td>50|doi_________::c10bce171eb7e977848784a057e86b80</td>\n",
       "      <td>10.1007/978-3-319-27974-9_17</td>\n",
       "      <td>Enhancing Digital Heritage Archives Using Gami...</td>\n",
       "      <td>Job King'Ori Maina,Hussein Suleman</td>\n",
       "      <td>\\N</td>\n",
       "      <td>Crossref,Digital Libraries: Providing Quality ...</td>\n",
       "      <td>2015-01-01</td>\n",
       "    </tr>\n",
       "    <tr>\n",
       "      <th>454</th>\n",
       "      <td>50|doi_________::bda4bae20a6838e563eb49c310602b4c</td>\n",
       "      <td>10.1007/978-3-030-59491-6_29</td>\n",
       "      <td>The GraphBRAIN System for Knowledge Graph Mana...</td>\n",
       "      <td>Stefano Ferilli,Domenico Redavid</td>\n",
       "      <td>\\N</td>\n",
       "      <td>Crossref,Lecture Notes in Computer Science ISB...</td>\n",
       "      <td>2020-01-01</td>\n",
       "    </tr>\n",
       "    <tr>\n",
       "      <th>457</th>\n",
       "      <td>50|doi_dedup___::27f00c426f39cd3e2c692171d15079da</td>\n",
       "      <td>10.1007/978-3-642-33290-6_19</td>\n",
       "      <td>A system for exposing linguistic linked open d...</td>\n",
       "      <td>Gianmaria Silvello,Giorgio Maria Di Nunzio,Ema...</td>\n",
       "      <td>\\N</td>\n",
       "      <td>Crossref,Theory and Practice of Digital Librar...</td>\n",
       "      <td>2012-01-01</td>\n",
       "    </tr>\n",
       "    <tr>\n",
       "      <th>465</th>\n",
       "      <td>50|doi_dedup___::af3354dda8ed946ae794fab0803c05ee</td>\n",
       "      <td>10.1007/978-3-319-16226-3_9</td>\n",
       "      <td>Linking Biomedical Data to the Cloud,Linking B...</td>\n",
       "      <td>Zwicklbauer, Stefan,Seifert, Christin,Granitze...</td>\n",
       "      <td>\\N</td>\n",
       "      <td>Crossref,Smart Health ISBN: 9783319162256,Smar...</td>\n",
       "      <td>2015-01-01</td>\n",
       "    </tr>\n",
       "    <tr>\n",
       "      <th>469</th>\n",
       "      <td>50|doi_dedup___::0efb245e0c3928fa774abade79c51aa1</td>\n",
       "      <td>10.1007/978-3-319-41938-1_1</td>\n",
       "      <td>10 Years of IRCDL: 2005–2014 (Invited Paper),1...</td>\n",
       "      <td>Maristella Agosti</td>\n",
       "      <td>\\N</td>\n",
       "      <td>Crossref,Communications in Computer and Inform...</td>\n",
       "      <td>2016-01-01</td>\n",
       "    </tr>\n",
       "  </tbody>\n",
       "</table>\n",
       "<p>166 rows × 7 columns</p>\n",
       "</div>"
      ],
      "text/plain": [
       "                                                    id  \\\n",
       "2    50|doi_dedup___::045a8039ab61d25a2f92274a8adb9472   \n",
       "5    50|doi_________::e4fef07b42bf6d3c0563158c11801a12   \n",
       "6    50|doi_________::e808f20ed76ff7dc48efdcd83cae7eb0   \n",
       "10   50|doi_dedup___::8fd6574f332f77828d1f540d873fd569   \n",
       "14   50|doi_dedup___::32ebde46194104a1f7cfad5524f4d1a6   \n",
       "..                                                 ...   \n",
       "452  50|doi_________::c10bce171eb7e977848784a057e86b80   \n",
       "454  50|doi_________::bda4bae20a6838e563eb49c310602b4c   \n",
       "457  50|doi_dedup___::27f00c426f39cd3e2c692171d15079da   \n",
       "465  50|doi_dedup___::af3354dda8ed946ae794fab0803c05ee   \n",
       "469  50|doi_dedup___::0efb245e0c3928fa774abade79c51aa1   \n",
       "\n",
       "                              pid  \\\n",
       "2    10.1007/978-3-030-39905-4_15   \n",
       "5     10.1007/978-3-319-08732-0_2   \n",
       "6    10.1007/978-3-319-08407-7_14   \n",
       "10    10.1007/978-3-642-40050-6_7   \n",
       "14    10.1007/978-3-319-73165-0_3   \n",
       "..                            ...   \n",
       "452  10.1007/978-3-319-27974-9_17   \n",
       "454  10.1007/978-3-030-59491-6_29   \n",
       "457  10.1007/978-3-642-33290-6_19   \n",
       "465   10.1007/978-3-319-16226-3_9   \n",
       "469   10.1007/978-3-319-41938-1_1   \n",
       "\n",
       "                                                 title  \\\n",
       "2    RepOSGate: Open Science Gateways for Instituti...   \n",
       "5    Authoring Composite Documents and Their Descri...   \n",
       "6    A relational unsupervised approach to author i...   \n",
       "10   Preserving Authenticity Evidence to Assess Pro...   \n",
       "14   A Software Architecture for Narratives,A Softw...   \n",
       "..                                                 ...   \n",
       "452  Enhancing Digital Heritage Archives Using Gami...   \n",
       "454  The GraphBRAIN System for Knowledge Graph Mana...   \n",
       "457  A system for exposing linguistic linked open d...   \n",
       "465  Linking Biomedical Data to the Cloud,Linking B...   \n",
       "469  10 Years of IRCDL: 2005–2014 (Invited Paper),1...   \n",
       "\n",
       "                                               authors venue  \\\n",
       "2    Silvia Giannini,Michele Artini,Paolo Manghi,Le...    \\N   \n",
       "5                  Tsuyoshi Sugibuchi,Nicolas Spyratos    \\N   \n",
       "6          Stefano Ferilli,Fulvio Rotella,Fabio Leuzzi    \\N   \n",
       "10          Luigi Briguglio,Maria Guercio,Silvio Salza    \\N   \n",
       "14   Daniele Metilli,Filippo Benedetti,Valentina Ba...    \\N   \n",
       "..                                                 ...   ...   \n",
       "452                 Job King'Ori Maina,Hussein Suleman    \\N   \n",
       "454                   Stefano Ferilli,Domenico Redavid    \\N   \n",
       "457  Gianmaria Silvello,Giorgio Maria Di Nunzio,Ema...    \\N   \n",
       "465  Zwicklbauer, Stefan,Seifert, Christin,Granitze...    \\N   \n",
       "469                                  Maristella Agosti    \\N   \n",
       "\n",
       "                                                source        year  \n",
       "2    Crossref,Digital Libraries: The Era of Big Dat...  2020-01-01  \n",
       "5    Crossref,Communications in Computer and Inform...  2014-01-01  \n",
       "6    Crossref,New Frontiers in Mining Complex Patte...  2014-01-01  \n",
       "10   Crossref,Lecture Notes in Computer Science ISB...  2013-01-01  \n",
       "14   Crossref,Communications in Computer and Inform...  2017-12-21  \n",
       "..                                                 ...         ...  \n",
       "452  Crossref,Digital Libraries: Providing Quality ...  2015-01-01  \n",
       "454  Crossref,Lecture Notes in Computer Science ISB...  2020-01-01  \n",
       "457  Crossref,Theory and Practice of Digital Librar...  2012-01-01  \n",
       "465  Crossref,Smart Health ISBN: 9783319162256,Smar...  2015-01-01  \n",
       "469  Crossref,Communications in Computer and Inform...  2016-01-01  \n",
       "\n",
       "[166 rows x 7 columns]"
      ]
     },
     "execution_count": 23,
     "metadata": {},
     "output_type": "execute_result"
    }
   ],
   "source": [
    "citing[citing.venue == '\\\\N']"
   ]
  },
  {
   "cell_type": "code",
   "execution_count": null,
   "metadata": {},
   "outputs": [],
   "source": []
  }
 ],
 "metadata": {
  "kernelspec": {
   "display_name": "Python 3 (ipykernel)",
   "language": "python",
   "name": "python3"
  },
  "language_info": {
   "codemirror_mode": {
    "name": "ipython",
    "version": 3
   },
   "file_extension": ".py",
   "mimetype": "text/x-python",
   "name": "python",
   "nbconvert_exporter": "python",
   "pygments_lexer": "ipython3",
   "version": "3.12.0"
  }
 },
 "nbformat": 4,
 "nbformat_minor": 4
}

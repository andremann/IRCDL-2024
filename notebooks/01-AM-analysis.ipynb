{
 "cells": [
  {
   "cell_type": "code",
   "execution_count": 11,
   "metadata": {},
   "outputs": [],
   "source": [
    "import pandas as pd\n",
    "from ast import literal_eval\n"
   ]
  },
  {
   "cell_type": "markdown",
   "metadata": {},
   "source": [
    "Load DBLP data"
   ]
  },
  {
   "cell_type": "code",
   "execution_count": 24,
   "metadata": {},
   "outputs": [
    {
     "data": {
      "text/html": [
       "<div>\n",
       "<style scoped>\n",
       "    .dataframe tbody tr th:only-of-type {\n",
       "        vertical-align: middle;\n",
       "    }\n",
       "\n",
       "    .dataframe tbody tr th {\n",
       "        vertical-align: top;\n",
       "    }\n",
       "\n",
       "    .dataframe thead th {\n",
       "        text-align: right;\n",
       "    }\n",
       "</style>\n",
       "<table border=\"1\" class=\"dataframe\">\n",
       "  <thead>\n",
       "    <tr style=\"text-align: right;\">\n",
       "      <th></th>\n",
       "      <th>doi</th>\n",
       "      <th>url</th>\n",
       "      <th>ee</th>\n",
       "      <th>year</th>\n",
       "      <th>authors</th>\n",
       "      <th>title</th>\n",
       "      <th>pages</th>\n",
       "      <th>length</th>\n",
       "      <th>type</th>\n",
       "      <th>access</th>\n",
       "    </tr>\n",
       "  </thead>\n",
       "  <tbody>\n",
       "    <tr>\n",
       "      <th>0</th>\n",
       "      <td>NaN</td>\n",
       "      <td>https://dblp.org/rec/conf/ircdl/AmbrosinoAPS23</td>\n",
       "      <td>https://ceur-ws.org/Vol-3365/short16.pdf</td>\n",
       "      <td>2023</td>\n",
       "      <td>[Maria Anna Ambrosino, Vanja Annunziata, Maria...</td>\n",
       "      <td>The Hetor project: a joint effort to co-create...</td>\n",
       "      <td>216-224</td>\n",
       "      <td>8.0</td>\n",
       "      <td>Conference and Workshop Papers</td>\n",
       "      <td>open</td>\n",
       "    </tr>\n",
       "    <tr>\n",
       "      <th>1</th>\n",
       "      <td>NaN</td>\n",
       "      <td>https://dblp.org/rec/conf/ircdl/BagchiD23</td>\n",
       "      <td>https://ceur-ws.org/Vol-3365/short1.pdf</td>\n",
       "      <td>2023</td>\n",
       "      <td>[Mayukh Bagchi, Subhashis Das]</td>\n",
       "      <td>Disentangling Domain Ontologies.</td>\n",
       "      <td>17-28</td>\n",
       "      <td>11.0</td>\n",
       "      <td>Conference and Workshop Papers</td>\n",
       "      <td>open</td>\n",
       "    </tr>\n",
       "    <tr>\n",
       "      <th>2</th>\n",
       "      <td>NaN</td>\n",
       "      <td>https://dblp.org/rec/conf/ircdl/BaglioniMPBM23</td>\n",
       "      <td>https://ceur-ws.org/Vol-3365/paper2.pdf</td>\n",
       "      <td>2023</td>\n",
       "      <td>[Miriam Baglioni, Andrea Mannocci, Gina Pavone...</td>\n",
       "      <td>(Semi)automated disambiguation of scholarly re...</td>\n",
       "      <td>47-59</td>\n",
       "      <td>12.0</td>\n",
       "      <td>Conference and Workshop Papers</td>\n",
       "      <td>open</td>\n",
       "    </tr>\n",
       "    <tr>\n",
       "      <th>3</th>\n",
       "      <td>NaN</td>\n",
       "      <td>https://dblp.org/rec/conf/ircdl/BarbutiBRCP23</td>\n",
       "      <td>https://ceur-ws.org/Vol-3365/short17.pdf</td>\n",
       "      <td>2023</td>\n",
       "      <td>[Nicola Barbuti, Mauro De Bari, Stefania Riso,...</td>\n",
       "      <td>The Open Memory Apulia Project. How Open Data ...</td>\n",
       "      <td>225-232</td>\n",
       "      <td>7.0</td>\n",
       "      <td>Conference and Workshop Papers</td>\n",
       "      <td>open</td>\n",
       "    </tr>\n",
       "    <tr>\n",
       "      <th>4</th>\n",
       "      <td>NaN</td>\n",
       "      <td>https://dblp.org/rec/conf/ircdl/BardiBM23</td>\n",
       "      <td>https://ceur-ws.org/Vol-3365/short12.pdf</td>\n",
       "      <td>2023</td>\n",
       "      <td>[Alessia Bardi, Margo Bargheer, Paolo Manghi]</td>\n",
       "      <td>A Discovery Hub for Diamond Open Access publis...</td>\n",
       "      <td>162-166</td>\n",
       "      <td>4.0</td>\n",
       "      <td>Conference and Workshop Papers</td>\n",
       "      <td>open</td>\n",
       "    </tr>\n",
       "  </tbody>\n",
       "</table>\n",
       "</div>"
      ],
      "text/plain": [
       "   doi                                             url  \\\n",
       "0  NaN  https://dblp.org/rec/conf/ircdl/AmbrosinoAPS23   \n",
       "1  NaN       https://dblp.org/rec/conf/ircdl/BagchiD23   \n",
       "2  NaN  https://dblp.org/rec/conf/ircdl/BaglioniMPBM23   \n",
       "3  NaN   https://dblp.org/rec/conf/ircdl/BarbutiBRCP23   \n",
       "4  NaN       https://dblp.org/rec/conf/ircdl/BardiBM23   \n",
       "\n",
       "                                         ee  year  \\\n",
       "0  https://ceur-ws.org/Vol-3365/short16.pdf  2023   \n",
       "1   https://ceur-ws.org/Vol-3365/short1.pdf  2023   \n",
       "2   https://ceur-ws.org/Vol-3365/paper2.pdf  2023   \n",
       "3  https://ceur-ws.org/Vol-3365/short17.pdf  2023   \n",
       "4  https://ceur-ws.org/Vol-3365/short12.pdf  2023   \n",
       "\n",
       "                                             authors  \\\n",
       "0  [Maria Anna Ambrosino, Vanja Annunziata, Maria...   \n",
       "1                     [Mayukh Bagchi, Subhashis Das]   \n",
       "2  [Miriam Baglioni, Andrea Mannocci, Gina Pavone...   \n",
       "3  [Nicola Barbuti, Mauro De Bari, Stefania Riso,...   \n",
       "4      [Alessia Bardi, Margo Bargheer, Paolo Manghi]   \n",
       "\n",
       "                                               title    pages  length  \\\n",
       "0  The Hetor project: a joint effort to co-create...  216-224     8.0   \n",
       "1                   Disentangling Domain Ontologies.    17-28    11.0   \n",
       "2  (Semi)automated disambiguation of scholarly re...    47-59    12.0   \n",
       "3  The Open Memory Apulia Project. How Open Data ...  225-232     7.0   \n",
       "4  A Discovery Hub for Diamond Open Access publis...  162-166     4.0   \n",
       "\n",
       "                             type access  \n",
       "0  Conference and Workshop Papers   open  \n",
       "1  Conference and Workshop Papers   open  \n",
       "2  Conference and Workshop Papers   open  \n",
       "3  Conference and Workshop Papers   open  \n",
       "4  Conference and Workshop Papers   open  "
      ]
     },
     "execution_count": 24,
     "metadata": {},
     "output_type": "execute_result"
    }
   ],
   "source": [
    "df = pd.read_csv('../data/processed/ircdl_dblp.csv')\n",
    "df.authors = df.authors.apply(literal_eval)\n",
    "\n",
    "df.head(5)"
   ]
  },
  {
   "cell_type": "code",
   "execution_count": 32,
   "metadata": {},
   "outputs": [
    {
     "name": "stdout",
     "output_type": "stream",
     "text": [
      "<class 'pandas.core.frame.DataFrame'>\n",
      "RangeIndex: 419 entries, 0 to 418\n",
      "Data columns (total 10 columns):\n",
      " #   Column   Non-Null Count  Dtype  \n",
      "---  ------   --------------  -----  \n",
      " 0   doi      249 non-null    object \n",
      " 1   url      419 non-null    object \n",
      " 2   ee       366 non-null    object \n",
      " 3   year     419 non-null    int64  \n",
      " 4   authors  419 non-null    object \n",
      " 5   title    419 non-null    object \n",
      " 6   pages    366 non-null    object \n",
      " 7   length   366 non-null    float64\n",
      " 8   type     419 non-null    object \n",
      " 9   access   407 non-null    object \n",
      "dtypes: float64(1), int64(1), object(8)\n",
      "memory usage: 32.9+ KB\n"
     ]
    }
   ],
   "source": [
    "df.info()"
   ]
  },
  {
   "cell_type": "markdown",
   "metadata": {},
   "source": [
    "Examine type field"
   ]
  },
  {
   "cell_type": "code",
   "execution_count": 50,
   "metadata": {},
   "outputs": [
    {
     "data": {
      "text/plain": [
       "Conference and Workshop Papers    398\n",
       "Editorship                         21\n",
       "Name: type, dtype: int64"
      ]
     },
     "execution_count": 50,
     "metadata": {},
     "output_type": "execute_result"
    }
   ],
   "source": [
    "df.type.value_counts()"
   ]
  },
  {
   "cell_type": "markdown",
   "metadata": {},
   "source": [
    "Filter long papers only (assumption on paper lenght)"
   ]
  },
  {
   "cell_type": "code",
   "execution_count": 83,
   "metadata": {},
   "outputs": [
    {
     "data": {
      "text/html": [
       "<div>\n",
       "<style scoped>\n",
       "    .dataframe tbody tr th:only-of-type {\n",
       "        vertical-align: middle;\n",
       "    }\n",
       "\n",
       "    .dataframe tbody tr th {\n",
       "        vertical-align: top;\n",
       "    }\n",
       "\n",
       "    .dataframe thead th {\n",
       "        text-align: right;\n",
       "    }\n",
       "</style>\n",
       "<table border=\"1\" class=\"dataframe\">\n",
       "  <thead>\n",
       "    <tr style=\"text-align: right;\">\n",
       "      <th></th>\n",
       "      <th>doi</th>\n",
       "      <th>url</th>\n",
       "      <th>ee</th>\n",
       "      <th>year</th>\n",
       "      <th>authors</th>\n",
       "      <th>title</th>\n",
       "      <th>pages</th>\n",
       "      <th>length</th>\n",
       "      <th>type</th>\n",
       "      <th>access</th>\n",
       "    </tr>\n",
       "  </thead>\n",
       "  <tbody>\n",
       "    <tr>\n",
       "      <th>1</th>\n",
       "      <td>NaN</td>\n",
       "      <td>https://dblp.org/rec/conf/ircdl/BagchiD23</td>\n",
       "      <td>https://ceur-ws.org/Vol-3365/short1.pdf</td>\n",
       "      <td>2023</td>\n",
       "      <td>[Mayukh Bagchi, Subhashis Das]</td>\n",
       "      <td>Disentangling Domain Ontologies.</td>\n",
       "      <td>17-28</td>\n",
       "      <td>11.0</td>\n",
       "      <td>Conference and Workshop Papers</td>\n",
       "      <td>open</td>\n",
       "    </tr>\n",
       "    <tr>\n",
       "      <th>2</th>\n",
       "      <td>NaN</td>\n",
       "      <td>https://dblp.org/rec/conf/ircdl/BaglioniMPBM23</td>\n",
       "      <td>https://ceur-ws.org/Vol-3365/paper2.pdf</td>\n",
       "      <td>2023</td>\n",
       "      <td>[Miriam Baglioni, Andrea Mannocci, Gina Pavone...</td>\n",
       "      <td>(Semi)automated disambiguation of scholarly re...</td>\n",
       "      <td>47-59</td>\n",
       "      <td>12.0</td>\n",
       "      <td>Conference and Workshop Papers</td>\n",
       "      <td>open</td>\n",
       "    </tr>\n",
       "    <tr>\n",
       "      <th>5</th>\n",
       "      <td>NaN</td>\n",
       "      <td>https://dblp.org/rec/conf/ircdl/BernasconiCM23</td>\n",
       "      <td>https://ceur-ws.org/Vol-3365/paper1.pdf</td>\n",
       "      <td>2023</td>\n",
       "      <td>[Eleonora Bernasconi, Miguel Ceriani, Massimo ...</td>\n",
       "      <td>Linked Data interfaces: a survey.</td>\n",
       "      <td>1-16</td>\n",
       "      <td>15.0</td>\n",
       "      <td>Conference and Workshop Papers</td>\n",
       "      <td>open</td>\n",
       "    </tr>\n",
       "    <tr>\n",
       "      <th>8</th>\n",
       "      <td>NaN</td>\n",
       "      <td>https://dblp.org/rec/conf/ircdl/DeglInnocentiCC23</td>\n",
       "      <td>https://ceur-ws.org/Vol-3365/paper5.pdf</td>\n",
       "      <td>2023</td>\n",
       "      <td>[Emiliano Degl&amp;apos;Innocenti, Leonardo Canova...</td>\n",
       "      <td>The RESTORE project: a final review.</td>\n",
       "      <td>167-179</td>\n",
       "      <td>12.0</td>\n",
       "      <td>Conference and Workshop Papers</td>\n",
       "      <td>open</td>\n",
       "    </tr>\n",
       "    <tr>\n",
       "      <th>10</th>\n",
       "      <td>NaN</td>\n",
       "      <td>https://dblp.org/rec/conf/ircdl/GemelliVM23</td>\n",
       "      <td>https://ceur-ws.org/Vol-3365/short14.pdf</td>\n",
       "      <td>2023</td>\n",
       "      <td>[Andrea Gemelli, Emanuele Vivoli, Simone Marinai]</td>\n",
       "      <td>CTE: A Dataset for Contextualized Table Extrac...</td>\n",
       "      <td>197-208</td>\n",
       "      <td>11.0</td>\n",
       "      <td>Conference and Workshop Papers</td>\n",
       "      <td>open</td>\n",
       "    </tr>\n",
       "  </tbody>\n",
       "</table>\n",
       "</div>"
      ],
      "text/plain": [
       "    doi                                                url  \\\n",
       "1   NaN          https://dblp.org/rec/conf/ircdl/BagchiD23   \n",
       "2   NaN     https://dblp.org/rec/conf/ircdl/BaglioniMPBM23   \n",
       "5   NaN     https://dblp.org/rec/conf/ircdl/BernasconiCM23   \n",
       "8   NaN  https://dblp.org/rec/conf/ircdl/DeglInnocentiCC23   \n",
       "10  NaN        https://dblp.org/rec/conf/ircdl/GemelliVM23   \n",
       "\n",
       "                                          ee  year  \\\n",
       "1    https://ceur-ws.org/Vol-3365/short1.pdf  2023   \n",
       "2    https://ceur-ws.org/Vol-3365/paper2.pdf  2023   \n",
       "5    https://ceur-ws.org/Vol-3365/paper1.pdf  2023   \n",
       "8    https://ceur-ws.org/Vol-3365/paper5.pdf  2023   \n",
       "10  https://ceur-ws.org/Vol-3365/short14.pdf  2023   \n",
       "\n",
       "                                              authors  \\\n",
       "1                      [Mayukh Bagchi, Subhashis Das]   \n",
       "2   [Miriam Baglioni, Andrea Mannocci, Gina Pavone...   \n",
       "5   [Eleonora Bernasconi, Miguel Ceriani, Massimo ...   \n",
       "8   [Emiliano Degl&apos;Innocenti, Leonardo Canova...   \n",
       "10  [Andrea Gemelli, Emanuele Vivoli, Simone Marinai]   \n",
       "\n",
       "                                                title    pages  length  \\\n",
       "1                    Disentangling Domain Ontologies.    17-28    11.0   \n",
       "2   (Semi)automated disambiguation of scholarly re...    47-59    12.0   \n",
       "5                   Linked Data interfaces: a survey.     1-16    15.0   \n",
       "8                The RESTORE project: a final review.  167-179    12.0   \n",
       "10  CTE: A Dataset for Contextualized Table Extrac...  197-208    11.0   \n",
       "\n",
       "                              type access  \n",
       "1   Conference and Workshop Papers   open  \n",
       "2   Conference and Workshop Papers   open  \n",
       "5   Conference and Workshop Papers   open  \n",
       "8   Conference and Workshop Papers   open  \n",
       "10  Conference and Workshop Papers   open  "
      ]
     },
     "execution_count": 83,
     "metadata": {},
     "output_type": "execute_result"
    }
   ],
   "source": [
    "full_papers = df[(df.type != 'Editorship') & (df.length >= 10)]\n",
    "full_papers.head()"
   ]
  },
  {
   "cell_type": "markdown",
   "metadata": {},
   "source": [
    "Explode papers by single authors"
   ]
  },
  {
   "cell_type": "code",
   "execution_count": 66,
   "metadata": {},
   "outputs": [
    {
     "data": {
      "text/plain": [
       "Stefano Ferilli           18\n",
       "Floriana Esposito         13\n",
       "Nicola Ferro 0001         12\n",
       "Gianmaria Silvello        11\n",
       "Carlo Tasso                9\n",
       "                          ..\n",
       "Konstantinos Oikonomou     1\n",
       "Vasileios Komianos         1\n",
       "Yulia Karimova             1\n",
       "Matteo Abrate              1\n",
       "Marco Degemmis             1\n",
       "Name: authors, Length: 385, dtype: int64"
      ]
     },
     "execution_count": 66,
     "metadata": {},
     "output_type": "execute_result"
    }
   ],
   "source": [
    "contributions = full_papers.authors.explode().value_counts()\n",
    "contributions"
   ]
  },
  {
   "cell_type": "markdown",
   "metadata": {},
   "source": [
    "Filter out Steering Committee and Advisory Board members and top contributors (assumption on number of papers published)"
   ]
  },
  {
   "cell_type": "code",
   "execution_count": 81,
   "metadata": {},
   "outputs": [
    {
     "data": {
      "text/plain": [
       "Nicola Ferro 0001               12\n",
       "Giorgio Maria Di Nunzio          9\n",
       "Nicola Orio                      7\n",
       "Anna Maria Tammaro               6\n",
       "Simone Marinai                   5\n",
       "Domenico Redavid                 5\n",
       "Alessia Bardi                    4\n",
       "Leonardo Candela                 4\n",
       "Nicola Di Mauro                  4\n",
       "Alessia Amelio                   4\n",
       "Vittore Casarosa                 4\n",
       "Marenglen Biba                   4\n",
       "Teresa Maria Altomare Basile     4\n",
       "Francesca Tomasi                 4\n",
       "Rita Cucchiara                   4\n",
       "Name: authors, dtype: int64"
      ]
     },
     "execution_count": 81,
     "metadata": {},
     "output_type": "execute_result"
    }
   ],
   "source": [
    "to_filter = 'bimbo|manghi|agosti|ferilli|grana|poggi|serra|silvello|catarci|thanos|esposito|tasso'\n",
    "filtered_top = contributions[(~contributions.index.str.lower().str.contains(to_filter)) & (contributions > 3)]\n",
    "filtered_top"
   ]
  }
 ],
 "metadata": {
  "kernelspec": {
   "display_name": "data-science",
   "language": "python",
   "name": "python3"
  },
  "language_info": {
   "codemirror_mode": {
    "name": "ipython",
    "version": 3
   },
   "file_extension": ".py",
   "mimetype": "text/x-python",
   "name": "python",
   "nbconvert_exporter": "python",
   "pygments_lexer": "ipython3",
   "version": "3.9.12"
  },
  "orig_nbformat": 4
 },
 "nbformat": 4,
 "nbformat_minor": 2
}
